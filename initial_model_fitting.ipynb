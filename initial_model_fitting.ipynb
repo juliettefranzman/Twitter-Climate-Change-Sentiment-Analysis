{
 "cells": [
  {
   "cell_type": "code",
   "execution_count": 1,
   "metadata": {},
   "outputs": [],
   "source": [
    "#imports\n",
    "import pandas as pd\n",
    "import numpy as np\n",
    "import sklearn\n",
    "from sklearn.model_selection import train_test_split\n",
    "from models import naive_bayes, logistic, random_forest\n",
    "\n",
    "from sklearn.linear_model import LogisticRegression\n",
    "from sklearn.feature_extraction.text import CountVectorizer\n",
    "from sklearn.feature_extraction.text import TfidfVectorizer\n",
    "from sklearn.naive_bayes import MultinomialNB"
   ]
  },
  {
   "cell_type": "code",
   "execution_count": 4,
   "metadata": {},
   "outputs": [],
   "source": [
    "# import the data\n",
    "data = pd.read_csv('data/clean_data.csv',index_col = 0)"
   ]
  },
  {
   "cell_type": "markdown",
   "metadata": {},
   "source": [
    "## Fitting a Binary Model"
   ]
  },
  {
   "cell_type": "code",
   "execution_count": 3,
   "metadata": {},
   "outputs": [],
   "source": [
    "#select only tweets that are pro (1) and anti (-1)\n",
    "binary_data = data[data[\"sentiment\"] != 0]"
   ]
  },
  {
   "cell_type": "code",
   "execution_count": 4,
   "metadata": {},
   "outputs": [],
   "source": [
    "#split data into testing and training sets \n",
    "X_train, X_test, y_train, y_test = train_test_split(binary_data.drop(labels = \"sentiment\", axis = 1), binary_data[\"sentiment\"], test_size=0.2, random_state=0)"
   ]
  },
  {
   "cell_type": "code",
   "execution_count": 5,
   "metadata": {},
   "outputs": [],
   "source": [
    "#select just the numerical data\n",
    "X_train_numerical = X_train.loc[:, ['is_retweet', 'is_quoted', 'retweets', 'favorites', 'followers', 'verified',\n",
    "               'exclamation_mark_count', 'question_mark_count']]"
   ]
  },
  {
   "cell_type": "markdown",
   "metadata": {},
   "source": [
    "#### Perform 5-fold cross validation on each of the potential models"
   ]
  },
  {
   "cell_type": "code",
   "execution_count": 6,
   "metadata": {
    "scrolled": false
   },
   "outputs": [],
   "source": [
    "#fit the models and obtain test error estimates\n",
    "nb = naive_bayes(X_train[\"clean text\"].values, y_train.values)\n",
    "log = logistic(X_train[\"clean text\"].values, y_train.values)\n",
    "rf = random_forest(X_train[\"clean text\"].values, y_train.values)\n",
    "log_with_numeric = logistic(X_train[\"clean text\"].values, y_train.values, X_train_numerical.values)\n",
    "rf_with_numeric = random_forest(X_train[\"clean text\"].values, y_train.values, X_train_numerical.values)"
   ]
  },
  {
   "cell_type": "code",
   "execution_count": 7,
   "metadata": {},
   "outputs": [
    {
     "data": {
      "text/html": [
       "<div>\n",
       "<style scoped>\n",
       "    .dataframe tbody tr th:only-of-type {\n",
       "        vertical-align: middle;\n",
       "    }\n",
       "\n",
       "    .dataframe tbody tr th {\n",
       "        vertical-align: top;\n",
       "    }\n",
       "\n",
       "    .dataframe thead th {\n",
       "        text-align: right;\n",
       "    }\n",
       "</style>\n",
       "<table border=\"1\" class=\"dataframe\">\n",
       "  <thead>\n",
       "    <tr style=\"text-align: right;\">\n",
       "      <th></th>\n",
       "      <th>Model</th>\n",
       "      <th>Accuracy</th>\n",
       "      <th>Precision</th>\n",
       "      <th>Recall</th>\n",
       "      <th>F score</th>\n",
       "    </tr>\n",
       "  </thead>\n",
       "  <tbody>\n",
       "    <tr>\n",
       "      <th>0</th>\n",
       "      <td>Naive Bayes</td>\n",
       "      <td>0.879172</td>\n",
       "      <td>0.804868</td>\n",
       "      <td>0.682913</td>\n",
       "      <td>0.719953</td>\n",
       "    </tr>\n",
       "    <tr>\n",
       "      <th>1</th>\n",
       "      <td>Logistic Regression</td>\n",
       "      <td>0.884372</td>\n",
       "      <td>0.815195</td>\n",
       "      <td>0.699210</td>\n",
       "      <td>0.736774</td>\n",
       "    </tr>\n",
       "    <tr>\n",
       "      <th>2</th>\n",
       "      <td>Random Forest</td>\n",
       "      <td>0.875594</td>\n",
       "      <td>0.800413</td>\n",
       "      <td>0.667119</td>\n",
       "      <td>0.704335</td>\n",
       "    </tr>\n",
       "    <tr>\n",
       "      <th>3</th>\n",
       "      <td>Logistic Regression with Numerical</td>\n",
       "      <td>0.841711</td>\n",
       "      <td>0.420855</td>\n",
       "      <td>0.500000</td>\n",
       "      <td>0.457025</td>\n",
       "    </tr>\n",
       "    <tr>\n",
       "      <th>4</th>\n",
       "      <td>Random Forest with Numerical</td>\n",
       "      <td>0.873246</td>\n",
       "      <td>0.834202</td>\n",
       "      <td>0.629075</td>\n",
       "      <td>0.666645</td>\n",
       "    </tr>\n",
       "  </tbody>\n",
       "</table>\n",
       "</div>"
      ],
      "text/plain": [
       "                                Model  Accuracy  Precision    Recall   F score\n",
       "0                         Naive Bayes  0.879172   0.804868  0.682913  0.719953\n",
       "1                 Logistic Regression  0.884372   0.815195  0.699210  0.736774\n",
       "2                       Random Forest  0.875594   0.800413  0.667119  0.704335\n",
       "3  Logistic Regression with Numerical  0.841711   0.420855  0.500000  0.457025\n",
       "4        Random Forest with Numerical  0.873246   0.834202  0.629075  0.666645"
      ]
     },
     "execution_count": 7,
     "metadata": {},
     "output_type": "execute_result"
    }
   ],
   "source": [
    "binary_df = pd.DataFrame(data ={'Model':['Naive Bayes',\n",
    "                                         'Logistic Regression',\n",
    "                                         'Random Forest', \n",
    "                                         'Logistic Regression with Numerical',\n",
    "                                         'Random Forest with Numerical'], \n",
    "                                'Accuracy': [nb[0],log[0],rf[0],log_with_numeric[0],rf_with_numeric[0]],\n",
    "                                'Precision': [nb[1],log[1],rf[1],log_with_numeric[1],rf_with_numeric[1]],\n",
    "                                'Recall': [nb[2],log[2],rf[2],log_with_numeric[2],rf_with_numeric[2]],\n",
    "                                'F score': [nb[3],log[3],rf[3],log_with_numeric[3],rf_with_numeric[3]]})\n",
    "binary_df"
   ]
  },
  {
   "cell_type": "markdown",
   "metadata": {},
   "source": [
    "## Fitting a Binary Model with Upsampling"
   ]
  },
  {
   "cell_type": "markdown",
   "metadata": {},
   "source": [
    "Our dataset contains class imbalance, so we will try to account for this by upsampling the -1 class."
   ]
  },
  {
   "cell_type": "code",
   "execution_count": 8,
   "metadata": {},
   "outputs": [
    {
     "name": "stdout",
     "output_type": "stream",
     "text": [
      "class 1:  0.8401842823276826\n",
      "class -1:  0.1598157176723174\n"
     ]
    }
   ],
   "source": [
    "n = len(binary_data)\n",
    "print('class 1: ', len(binary_data[binary_data['sentiment']==1])/n)\n",
    "print('class -1: ', len(binary_data[binary_data['sentiment']==-1])/n)"
   ]
  },
  {
   "cell_type": "code",
   "execution_count": 9,
   "metadata": {},
   "outputs": [
    {
     "name": "stdout",
     "output_type": "stream",
     "text": [
      "class 1:  0.5\n",
      "class -1:  0.5\n"
     ]
    }
   ],
   "source": [
    "# randomly sample values from the smaller class untill the classes are balanced\n",
    "np.random.seed(123)\n",
    "\n",
    "diff = (len(binary_data[binary_data['sentiment']==1]) - \n",
    "        len(binary_data[binary_data['sentiment']==-1])) # want to creat 50 - 50 balance\n",
    "neg_data = binary_data[binary_data['sentiment']==-1] # sample to choose from\n",
    "upsample_index = np.random.choice(neg_data.index,size=diff) # sample with repetition\n",
    "binary_data_ups = binary_data.append(neg_data.loc[upsample_index]).sample(frac=1)\n",
    "\n",
    "n = len(binary_data_ups)\n",
    "print('class 1: ', len(binary_data_ups[binary_data_ups['sentiment']==1])/n)\n",
    "print('class -1: ', len(binary_data_ups[binary_data_ups['sentiment']==-1])/n)"
   ]
  },
  {
   "cell_type": "code",
   "execution_count": 10,
   "metadata": {},
   "outputs": [],
   "source": [
    "#split data into testing and training sets \n",
    "X_train, X_test, y_train, y_test = train_test_split(binary_data_ups.drop(labels = \"sentiment\", axis = 1), binary_data_ups[\"sentiment\"], test_size=0.2, random_state=0)"
   ]
  },
  {
   "cell_type": "code",
   "execution_count": 11,
   "metadata": {},
   "outputs": [],
   "source": [
    "#select just the numerical data\n",
    "X_train_numerical = X_train.loc[:, ['is_retweet', 'is_quoted', 'retweets', 'favorites', 'followers', 'verified',\n",
    "               'exclamation_mark_count', 'question_mark_count']]"
   ]
  },
  {
   "cell_type": "markdown",
   "metadata": {},
   "source": [
    "#### Perform 5-fold cross validation on each of the potential models"
   ]
  },
  {
   "cell_type": "code",
   "execution_count": 12,
   "metadata": {
    "scrolled": true
   },
   "outputs": [],
   "source": [
    "#fit the models and obtain test error estimates\n",
    "nb = naive_bayes(X_train[\"clean text\"].values, y_train.values)\n",
    "log = logistic(X_train[\"clean text\"].values, y_train.values)\n",
    "rf = random_forest(X_train[\"clean text\"].values, y_train.values)\n",
    "log_with_numeric = logistic(X_train[\"clean text\"].values, y_train.values, X_train_numerical.values)\n",
    "rf_with_numeric = random_forest(X_train[\"clean text\"].values, y_train.values, X_train_numerical.values)"
   ]
  },
  {
   "cell_type": "code",
   "execution_count": 13,
   "metadata": {},
   "outputs": [
    {
     "data": {
      "text/html": [
       "<div>\n",
       "<style scoped>\n",
       "    .dataframe tbody tr th:only-of-type {\n",
       "        vertical-align: middle;\n",
       "    }\n",
       "\n",
       "    .dataframe tbody tr th {\n",
       "        vertical-align: top;\n",
       "    }\n",
       "\n",
       "    .dataframe thead th {\n",
       "        text-align: right;\n",
       "    }\n",
       "</style>\n",
       "<table border=\"1\" class=\"dataframe\">\n",
       "  <thead>\n",
       "    <tr style=\"text-align: right;\">\n",
       "      <th></th>\n",
       "      <th>Model</th>\n",
       "      <th>Accuracy</th>\n",
       "      <th>Precision</th>\n",
       "      <th>Recall</th>\n",
       "      <th>F score</th>\n",
       "    </tr>\n",
       "  </thead>\n",
       "  <tbody>\n",
       "    <tr>\n",
       "      <th>0</th>\n",
       "      <td>Naive Bayes upsampled</td>\n",
       "      <td>0.844147</td>\n",
       "      <td>0.844486</td>\n",
       "      <td>0.844082</td>\n",
       "      <td>0.844064</td>\n",
       "    </tr>\n",
       "    <tr>\n",
       "      <th>1</th>\n",
       "      <td>Logistic Regression upsampled</td>\n",
       "      <td>0.878985</td>\n",
       "      <td>0.879833</td>\n",
       "      <td>0.878903</td>\n",
       "      <td>0.878879</td>\n",
       "    </tr>\n",
       "    <tr>\n",
       "      <th>2</th>\n",
       "      <td>Random Forest upsampled</td>\n",
       "      <td>0.946430</td>\n",
       "      <td>0.949446</td>\n",
       "      <td>0.946292</td>\n",
       "      <td>0.946320</td>\n",
       "    </tr>\n",
       "    <tr>\n",
       "      <th>3</th>\n",
       "      <td>Logistic Regression with Numerical upsampled</td>\n",
       "      <td>0.495142</td>\n",
       "      <td>0.460364</td>\n",
       "      <td>0.495896</td>\n",
       "      <td>0.375201</td>\n",
       "    </tr>\n",
       "    <tr>\n",
       "      <th>4</th>\n",
       "      <td>Random Forest with Numerical upsampled</td>\n",
       "      <td>0.959406</td>\n",
       "      <td>0.960787</td>\n",
       "      <td>0.959337</td>\n",
       "      <td>0.959365</td>\n",
       "    </tr>\n",
       "  </tbody>\n",
       "</table>\n",
       "</div>"
      ],
      "text/plain": [
       "                                          Model  Accuracy  Precision  \\\n",
       "0                         Naive Bayes upsampled  0.844147   0.844486   \n",
       "1                 Logistic Regression upsampled  0.878985   0.879833   \n",
       "2                       Random Forest upsampled  0.946430   0.949446   \n",
       "3  Logistic Regression with Numerical upsampled  0.495142   0.460364   \n",
       "4        Random Forest with Numerical upsampled  0.959406   0.960787   \n",
       "\n",
       "     Recall   F score  \n",
       "0  0.844082  0.844064  \n",
       "1  0.878903  0.878879  \n",
       "2  0.946292  0.946320  \n",
       "3  0.495896  0.375201  \n",
       "4  0.959337  0.959365  "
      ]
     },
     "execution_count": 13,
     "metadata": {},
     "output_type": "execute_result"
    }
   ],
   "source": [
    "binary_df_ups = pd.DataFrame(data ={'Model':['Naive Bayes upsampled',\n",
    "                                             'Logistic Regression upsampled',\n",
    "                                             'Random Forest upsampled', \n",
    "                                             'Logistic Regression with Numerical upsampled',\n",
    "                                             'Random Forest with Numerical upsampled'], \n",
    "                                    'Accuracy': [nb[0],log[0],rf[0],log_with_numeric[0],rf_with_numeric[0]],\n",
    "                                    'Precision': [nb[1],log[1],rf[1],log_with_numeric[1],rf_with_numeric[1]],\n",
    "                                    'Recall': [nb[2],log[2],rf[2],log_with_numeric[2],rf_with_numeric[2]],\n",
    "                                    'F score': [nb[3],log[3],rf[3],log_with_numeric[3],rf_with_numeric[3]]})\n",
    "binary_df_ups"
   ]
  },
  {
   "cell_type": "markdown",
   "metadata": {},
   "source": [
    "## Test performance and fitting the final binary model"
   ]
  },
  {
   "cell_type": "code",
   "execution_count": null,
   "metadata": {},
   "outputs": [],
   "source": [
    "# note: i don't think we should be doing this until we decide on the final model"
   ]
  },
  {
   "cell_type": "markdown",
   "metadata": {},
   "source": [
    "#### Fit the best model and obtain the final test error estimate"
   ]
  },
  {
   "cell_type": "code",
   "execution_count": 19,
   "metadata": {},
   "outputs": [],
   "source": [
    "#vectorize\n",
    "#vectorizer = CountVectorizer()\n",
    "#train = vectorizer.fit_transform(X_train[\"clean text\"].values)\n",
    "#test = vectorizer.transform(X_test[\"clean text\"].values)\n",
    "        \n",
    "#run logistic regression\n",
    "#logistic_classifier = LogisticRegression(random_state=0, max_iter = 2000)\n",
    "#logistic_classifier.fit(train, y_train.values)\n",
    "        \n",
    "#obtain the test accuracy\n",
    "#logistic_classifier.score(test, y_test.values)"
   ]
  },
  {
   "cell_type": "markdown",
   "metadata": {},
   "source": [
    "##### Fit the final model"
   ]
  },
  {
   "cell_type": "code",
   "execution_count": 20,
   "metadata": {},
   "outputs": [],
   "source": [
    "#vectorizer = CountVectorizer()\n",
    "#vec = vectorizer.fit_transform(data[\"clean text\"].values)\n",
    "        \n",
    "#run logistic regression\n",
    "#logistic_classifier = LogisticRegression(random_state=0, max_iter = 2000)\n",
    "#logistic_classifier.fit(vec, data[\"sentiment\"].values)"
   ]
  },
  {
   "cell_type": "code",
   "execution_count": 21,
   "metadata": {},
   "outputs": [],
   "source": [
    "#logistic_classifier.coef_"
   ]
  },
  {
   "cell_type": "markdown",
   "metadata": {},
   "source": [
    "## Fitting a 3 Class Model"
   ]
  },
  {
   "cell_type": "code",
   "execution_count": 14,
   "metadata": {},
   "outputs": [],
   "source": [
    "#split data into testing and training sets\n",
    "X_train, X_test, y_train, y_test = train_test_split(data.drop(labels = \"sentiment\", axis = 1), data[\"sentiment\"])"
   ]
  },
  {
   "cell_type": "code",
   "execution_count": 15,
   "metadata": {},
   "outputs": [],
   "source": [
    "#select just the numerical data\n",
    "X_train_numerical = X_train.loc[:, ['is_retweet', 'is_quoted', 'retweets', 'favorites', 'followers', 'verified',\n",
    "               'exclamation_mark_count', 'question_mark_count']]"
   ]
  },
  {
   "cell_type": "markdown",
   "metadata": {},
   "source": [
    "##### Perform 5-fold cross validation on each of the models"
   ]
  },
  {
   "cell_type": "code",
   "execution_count": 16,
   "metadata": {
    "scrolled": true
   },
   "outputs": [],
   "source": [
    "#fit the models and obtain test error estimates\n",
    "nb = naive_bayes(X_train[\"clean text\"].values, y_train.values)\n",
    "log = logistic(X_train[\"clean text\"].values, y_train.values)\n",
    "rf = random_forest(X_train[\"clean text\"].values, y_train.values)\n",
    "log_with_numeric = logistic(X_train[\"clean text\"].values, y_train.values, X_train_numerical.values)\n",
    "rf_with_numeric = random_forest(X_train[\"clean text\"].values, y_train.values, X_train_numerical.values)"
   ]
  },
  {
   "cell_type": "code",
   "execution_count": 17,
   "metadata": {},
   "outputs": [
    {
     "data": {
      "text/html": [
       "<div>\n",
       "<style scoped>\n",
       "    .dataframe tbody tr th:only-of-type {\n",
       "        vertical-align: middle;\n",
       "    }\n",
       "\n",
       "    .dataframe tbody tr th {\n",
       "        vertical-align: top;\n",
       "    }\n",
       "\n",
       "    .dataframe thead th {\n",
       "        text-align: right;\n",
       "    }\n",
       "</style>\n",
       "<table border=\"1\" class=\"dataframe\">\n",
       "  <thead>\n",
       "    <tr style=\"text-align: right;\">\n",
       "      <th></th>\n",
       "      <th>Model</th>\n",
       "      <th>Accuracy</th>\n",
       "      <th>Precision</th>\n",
       "      <th>Recall</th>\n",
       "      <th>F score</th>\n",
       "    </tr>\n",
       "  </thead>\n",
       "  <tbody>\n",
       "    <tr>\n",
       "      <th>0</th>\n",
       "      <td>Naive Bayes</td>\n",
       "      <td>0.701325</td>\n",
       "      <td>0.638655</td>\n",
       "      <td>0.498019</td>\n",
       "      <td>0.526972</td>\n",
       "    </tr>\n",
       "    <tr>\n",
       "      <th>1</th>\n",
       "      <td>Logistic Regression</td>\n",
       "      <td>0.698289</td>\n",
       "      <td>0.614781</td>\n",
       "      <td>0.544584</td>\n",
       "      <td>0.568320</td>\n",
       "    </tr>\n",
       "    <tr>\n",
       "      <th>2</th>\n",
       "      <td>Random Forest</td>\n",
       "      <td>0.689271</td>\n",
       "      <td>0.611492</td>\n",
       "      <td>0.500463</td>\n",
       "      <td>0.527235</td>\n",
       "    </tr>\n",
       "    <tr>\n",
       "      <th>3</th>\n",
       "      <td>Logistic Regression with Numerical</td>\n",
       "      <td>0.648371</td>\n",
       "      <td>0.216124</td>\n",
       "      <td>0.333333</td>\n",
       "      <td>0.262225</td>\n",
       "    </tr>\n",
       "    <tr>\n",
       "      <th>4</th>\n",
       "      <td>Random Forest with Numerical</td>\n",
       "      <td>0.695114</td>\n",
       "      <td>0.667204</td>\n",
       "      <td>0.472788</td>\n",
       "      <td>0.500113</td>\n",
       "    </tr>\n",
       "  </tbody>\n",
       "</table>\n",
       "</div>"
      ],
      "text/plain": [
       "                                Model  Accuracy  Precision    Recall   F score\n",
       "0                         Naive Bayes  0.701325   0.638655  0.498019  0.526972\n",
       "1                 Logistic Regression  0.698289   0.614781  0.544584  0.568320\n",
       "2                       Random Forest  0.689271   0.611492  0.500463  0.527235\n",
       "3  Logistic Regression with Numerical  0.648371   0.216124  0.333333  0.262225\n",
       "4        Random Forest with Numerical  0.695114   0.667204  0.472788  0.500113"
      ]
     },
     "execution_count": 17,
     "metadata": {},
     "output_type": "execute_result"
    }
   ],
   "source": [
    "class3_df = pd.DataFrame(data ={'Model':['Naive Bayes',\n",
    "                                         'Logistic Regression',\n",
    "                                         'Random Forest', \n",
    "                                         'Logistic Regression with Numerical',\n",
    "                                         'Random Forest with Numerical'], \n",
    "                                'Accuracy': [nb[0],log[0],rf[0],log_with_numeric[0],rf_with_numeric[0]],\n",
    "                                'Precision': [nb[1],log[1],rf[1],log_with_numeric[1],rf_with_numeric[1]],\n",
    "                                'Recall': [nb[2],log[2],rf[2],log_with_numeric[2],rf_with_numeric[2]],\n",
    "                                'F score': [nb[3],log[3],rf[3],log_with_numeric[3],rf_with_numeric[3]]})\n",
    "class3_df"
   ]
  },
  {
   "cell_type": "markdown",
   "metadata": {},
   "source": [
    "## Fitting a 3 Class Model with Upsampling"
   ]
  },
  {
   "cell_type": "code",
   "execution_count": 18,
   "metadata": {},
   "outputs": [
    {
     "name": "stdout",
     "output_type": "stream",
     "text": [
      "class 1:  0.6481264232972189\n",
      "class 0:  0.22859015940928853\n",
      "class -1:  0.12328341729349251\n"
     ]
    }
   ],
   "source": [
    "n = len(data)\n",
    "print('class 1: ', len(data[data['sentiment']==1])/n)\n",
    "print('class 0: ', len(data[data['sentiment']==0])/n)\n",
    "print('class -1: ', len(data[data['sentiment']==-1])/n)"
   ]
  },
  {
   "cell_type": "code",
   "execution_count": 19,
   "metadata": {},
   "outputs": [
    {
     "name": "stdout",
     "output_type": "stream",
     "text": [
      "class 1:  0.3333333333333333\n",
      "class 0:  0.3333333333333333\n",
      "class -1:  0.3333333333333333\n"
     ]
    }
   ],
   "source": [
    "np.random.seed(123)\n",
    "\n",
    "diffneg = (len(data[data['sentiment']==1]) - \n",
    "        len(data[data['sentiment']==-1])) # want to creat 33-33-33 balance\n",
    "diffneu = (len(data[data['sentiment']==1]) - \n",
    "        len(data[data['sentiment']==0])) # want to creat 33-33-33 balance\n",
    "\n",
    "neg_data = data[data['sentiment']==-1] # sample to choose from\n",
    "neu_data = data[data['sentiment']==0] # sample to choose from\n",
    "\n",
    "upsample_index_neg = np.random.choice(neg_data.index,size=diffneg) # sample with repetition\n",
    "upsample_index_neu = np.random.choice(neu_data.index,size=diffneu) # sample with repetition\n",
    "\n",
    "data_ups = data.append(neg_data.loc[upsample_index_neg]).append(neu_data.loc[upsample_index_neu]).sample(frac=1)\n",
    "\n",
    "n = len(data_ups)\n",
    "print('class 1: ', len(data_ups[data_ups['sentiment']==1])/n)\n",
    "print('class 0: ', len(data_ups[data_ups['sentiment']==0])/n)\n",
    "print('class -1: ', len(data_ups[data_ups['sentiment']==-1])/n)"
   ]
  },
  {
   "cell_type": "code",
   "execution_count": 20,
   "metadata": {},
   "outputs": [],
   "source": [
    "#split data into testing and training sets \n",
    "X_train, X_test, y_train, y_test = train_test_split(data_ups.drop(labels = \"sentiment\", axis = 1), data_ups[\"sentiment\"], test_size=0.2, random_state=0)"
   ]
  },
  {
   "cell_type": "code",
   "execution_count": 21,
   "metadata": {},
   "outputs": [],
   "source": [
    "#select just the numerical data\n",
    "X_train_numerical = X_train.loc[:, ['is_retweet', 'is_quoted', 'retweets', 'favorites', 'followers', 'verified',\n",
    "               'exclamation_mark_count', 'question_mark_count']]"
   ]
  },
  {
   "cell_type": "markdown",
   "metadata": {},
   "source": [
    "#### Perform 5-fold cross validation on each of the potential models"
   ]
  },
  {
   "cell_type": "code",
   "execution_count": 22,
   "metadata": {
    "scrolled": true
   },
   "outputs": [],
   "source": [
    "#fit the models and obtain test error estimates\n",
    "nb = naive_bayes(X_train[\"clean text\"].values, y_train.values)\n",
    "log = logistic(X_train[\"clean text\"].values, y_train.values)\n",
    "rf = random_forest(X_train[\"clean text\"].values, y_train.values)\n",
    "log_with_numeric = logistic(X_train[\"clean text\"].values, y_train.values, X_train_numerical.values)\n",
    "rf_with_numeric = random_forest(X_train[\"clean text\"].values, y_train.values, X_train_numerical.values)"
   ]
  },
  {
   "cell_type": "code",
   "execution_count": 23,
   "metadata": {},
   "outputs": [
    {
     "data": {
      "text/html": [
       "<div>\n",
       "<style scoped>\n",
       "    .dataframe tbody tr th:only-of-type {\n",
       "        vertical-align: middle;\n",
       "    }\n",
       "\n",
       "    .dataframe tbody tr th {\n",
       "        vertical-align: top;\n",
       "    }\n",
       "\n",
       "    .dataframe thead th {\n",
       "        text-align: right;\n",
       "    }\n",
       "</style>\n",
       "<table border=\"1\" class=\"dataframe\">\n",
       "  <thead>\n",
       "    <tr style=\"text-align: right;\">\n",
       "      <th></th>\n",
       "      <th>Model</th>\n",
       "      <th>Accuracy</th>\n",
       "      <th>Precision</th>\n",
       "      <th>Recall</th>\n",
       "      <th>F score</th>\n",
       "    </tr>\n",
       "  </thead>\n",
       "  <tbody>\n",
       "    <tr>\n",
       "      <th>0</th>\n",
       "      <td>Naive Bayes upsampled</td>\n",
       "      <td>0.709589</td>\n",
       "      <td>0.710537</td>\n",
       "      <td>0.709674</td>\n",
       "      <td>0.707507</td>\n",
       "    </tr>\n",
       "    <tr>\n",
       "      <th>1</th>\n",
       "      <td>Logistic Regression upsampled</td>\n",
       "      <td>0.772232</td>\n",
       "      <td>0.771554</td>\n",
       "      <td>0.772363</td>\n",
       "      <td>0.771098</td>\n",
       "    </tr>\n",
       "    <tr>\n",
       "      <th>2</th>\n",
       "      <td>Random Forest upsampled</td>\n",
       "      <td>0.880770</td>\n",
       "      <td>0.882480</td>\n",
       "      <td>0.880924</td>\n",
       "      <td>0.878738</td>\n",
       "    </tr>\n",
       "    <tr>\n",
       "      <th>3</th>\n",
       "      <td>Logistic Regression with Numerical upsampled</td>\n",
       "      <td>0.334531</td>\n",
       "      <td>0.291014</td>\n",
       "      <td>0.333936</td>\n",
       "      <td>0.170294</td>\n",
       "    </tr>\n",
       "    <tr>\n",
       "      <th>4</th>\n",
       "      <td>Random Forest with Numerical upsampled</td>\n",
       "      <td>0.896475</td>\n",
       "      <td>0.896928</td>\n",
       "      <td>0.896583</td>\n",
       "      <td>0.895543</td>\n",
       "    </tr>\n",
       "  </tbody>\n",
       "</table>\n",
       "</div>"
      ],
      "text/plain": [
       "                                          Model  Accuracy  Precision  \\\n",
       "0                         Naive Bayes upsampled  0.709589   0.710537   \n",
       "1                 Logistic Regression upsampled  0.772232   0.771554   \n",
       "2                       Random Forest upsampled  0.880770   0.882480   \n",
       "3  Logistic Regression with Numerical upsampled  0.334531   0.291014   \n",
       "4        Random Forest with Numerical upsampled  0.896475   0.896928   \n",
       "\n",
       "     Recall   F score  \n",
       "0  0.709674  0.707507  \n",
       "1  0.772363  0.771098  \n",
       "2  0.880924  0.878738  \n",
       "3  0.333936  0.170294  \n",
       "4  0.896583  0.895543  "
      ]
     },
     "execution_count": 23,
     "metadata": {},
     "output_type": "execute_result"
    }
   ],
   "source": [
    "class3_df_ups = pd.DataFrame(data ={'Model':['Naive Bayes upsampled',\n",
    "                                             'Logistic Regression upsampled',\n",
    "                                             'Random Forest upsampled', \n",
    "                                             'Logistic Regression with Numerical upsampled',\n",
    "                                             'Random Forest with Numerical upsampled'], \n",
    "                                    'Accuracy': [nb[0],log[0],rf[0],log_with_numeric[0],rf_with_numeric[0]],\n",
    "                                    'Precision': [nb[1],log[1],rf[1],log_with_numeric[1],rf_with_numeric[1]],\n",
    "                                    'Recall': [nb[2],log[2],rf[2],log_with_numeric[2],rf_with_numeric[2]],\n",
    "                                    'F score': [nb[3],log[3],rf[3],log_with_numeric[3],rf_with_numeric[3]]})\n",
    "class3_df_ups"
   ]
  },
  {
   "cell_type": "markdown",
   "metadata": {},
   "source": [
    "## Test performance and fitting the final binary model"
   ]
  },
  {
   "cell_type": "markdown",
   "metadata": {},
   "source": [
    "#### Fit the best model and obtain the final test error estimate"
   ]
  },
  {
   "cell_type": "code",
   "execution_count": 18,
   "metadata": {},
   "outputs": [],
   "source": [
    "#vectorize\n",
    "#vectorizer = CountVectorizer()\n",
    "#train = vectorizer.fit_transform(X_train[\"clean text\"].values)\n",
    "#test = vectorizer.transform(X_test[\"clean text\"].values)\n",
    "        \n",
    "#naive bayes    \n",
    "#nb_classifier = MultinomialNB()\n",
    "#nb_classifier.fit(train, y_train.values)\n",
    "      \n",
    "#obtain the test accuracy\n",
    "#nb_classifier.score(test, y_test.values)"
   ]
  },
  {
   "cell_type": "markdown",
   "metadata": {},
   "source": [
    "## Comparing model performance"
   ]
  },
  {
   "cell_type": "markdown",
   "metadata": {},
   "source": [
    "To improve our results we will next try:\n",
    "- scaling the numerical data\n",
    "- upsampling to remove class imbalance (implemented and evaluated)\n",
    "- n-grams (implemented but not yet evaluated)\n",
    "- setting max number of words to use\n",
    "- feature selection with numerical features\n",
    "- adding penalty (regularizing)\n",
    "- speed up random forest (run in parallel)\n",
    "- use MPQA sentiment lexicon\n"
   ]
  },
  {
   "cell_type": "markdown",
   "metadata": {},
   "source": [
    "**Binary Results**"
   ]
  },
  {
   "cell_type": "code",
   "execution_count": 24,
   "metadata": {},
   "outputs": [
    {
     "data": {
      "text/html": [
       "<div>\n",
       "<style scoped>\n",
       "    .dataframe tbody tr th:only-of-type {\n",
       "        vertical-align: middle;\n",
       "    }\n",
       "\n",
       "    .dataframe tbody tr th {\n",
       "        vertical-align: top;\n",
       "    }\n",
       "\n",
       "    .dataframe thead th {\n",
       "        text-align: right;\n",
       "    }\n",
       "</style>\n",
       "<table border=\"1\" class=\"dataframe\">\n",
       "  <thead>\n",
       "    <tr style=\"text-align: right;\">\n",
       "      <th></th>\n",
       "      <th>Model</th>\n",
       "      <th>Accuracy</th>\n",
       "      <th>Precision</th>\n",
       "      <th>Recall</th>\n",
       "      <th>F score</th>\n",
       "    </tr>\n",
       "  </thead>\n",
       "  <tbody>\n",
       "    <tr>\n",
       "      <th>0</th>\n",
       "      <td>Naive Bayes</td>\n",
       "      <td>0.879172</td>\n",
       "      <td>0.804868</td>\n",
       "      <td>0.682913</td>\n",
       "      <td>0.719953</td>\n",
       "    </tr>\n",
       "    <tr>\n",
       "      <th>1</th>\n",
       "      <td>Logistic Regression</td>\n",
       "      <td>0.884372</td>\n",
       "      <td>0.815195</td>\n",
       "      <td>0.699210</td>\n",
       "      <td>0.736774</td>\n",
       "    </tr>\n",
       "    <tr>\n",
       "      <th>2</th>\n",
       "      <td>Random Forest</td>\n",
       "      <td>0.875594</td>\n",
       "      <td>0.800413</td>\n",
       "      <td>0.667119</td>\n",
       "      <td>0.704335</td>\n",
       "    </tr>\n",
       "    <tr>\n",
       "      <th>3</th>\n",
       "      <td>Logistic Regression with Numerical</td>\n",
       "      <td>0.841711</td>\n",
       "      <td>0.420855</td>\n",
       "      <td>0.500000</td>\n",
       "      <td>0.457025</td>\n",
       "    </tr>\n",
       "    <tr>\n",
       "      <th>4</th>\n",
       "      <td>Random Forest with Numerical</td>\n",
       "      <td>0.873246</td>\n",
       "      <td>0.834202</td>\n",
       "      <td>0.629075</td>\n",
       "      <td>0.666645</td>\n",
       "    </tr>\n",
       "    <tr>\n",
       "      <th>0</th>\n",
       "      <td>Naive Bayes upsampled</td>\n",
       "      <td>0.844147</td>\n",
       "      <td>0.844486</td>\n",
       "      <td>0.844082</td>\n",
       "      <td>0.844064</td>\n",
       "    </tr>\n",
       "    <tr>\n",
       "      <th>1</th>\n",
       "      <td>Logistic Regression upsampled</td>\n",
       "      <td>0.878985</td>\n",
       "      <td>0.879833</td>\n",
       "      <td>0.878903</td>\n",
       "      <td>0.878879</td>\n",
       "    </tr>\n",
       "    <tr>\n",
       "      <th>2</th>\n",
       "      <td>Random Forest upsampled</td>\n",
       "      <td>0.946430</td>\n",
       "      <td>0.949446</td>\n",
       "      <td>0.946292</td>\n",
       "      <td>0.946320</td>\n",
       "    </tr>\n",
       "    <tr>\n",
       "      <th>3</th>\n",
       "      <td>Logistic Regression with Numerical upsampled</td>\n",
       "      <td>0.495142</td>\n",
       "      <td>0.460364</td>\n",
       "      <td>0.495896</td>\n",
       "      <td>0.375201</td>\n",
       "    </tr>\n",
       "    <tr>\n",
       "      <th>4</th>\n",
       "      <td>Random Forest with Numerical upsampled</td>\n",
       "      <td>0.959406</td>\n",
       "      <td>0.960787</td>\n",
       "      <td>0.959337</td>\n",
       "      <td>0.959365</td>\n",
       "    </tr>\n",
       "  </tbody>\n",
       "</table>\n",
       "</div>"
      ],
      "text/plain": [
       "                                          Model  Accuracy  Precision  \\\n",
       "0                                   Naive Bayes  0.879172   0.804868   \n",
       "1                           Logistic Regression  0.884372   0.815195   \n",
       "2                                 Random Forest  0.875594   0.800413   \n",
       "3            Logistic Regression with Numerical  0.841711   0.420855   \n",
       "4                  Random Forest with Numerical  0.873246   0.834202   \n",
       "0                         Naive Bayes upsampled  0.844147   0.844486   \n",
       "1                 Logistic Regression upsampled  0.878985   0.879833   \n",
       "2                       Random Forest upsampled  0.946430   0.949446   \n",
       "3  Logistic Regression with Numerical upsampled  0.495142   0.460364   \n",
       "4        Random Forest with Numerical upsampled  0.959406   0.960787   \n",
       "\n",
       "     Recall   F score  \n",
       "0  0.682913  0.719953  \n",
       "1  0.699210  0.736774  \n",
       "2  0.667119  0.704335  \n",
       "3  0.500000  0.457025  \n",
       "4  0.629075  0.666645  \n",
       "0  0.844082  0.844064  \n",
       "1  0.878903  0.878879  \n",
       "2  0.946292  0.946320  \n",
       "3  0.495896  0.375201  \n",
       "4  0.959337  0.959365  "
      ]
     },
     "execution_count": 24,
     "metadata": {},
     "output_type": "execute_result"
    }
   ],
   "source": [
    "binary_df.append(binary_df_ups)"
   ]
  },
  {
   "cell_type": "markdown",
   "metadata": {},
   "source": [
    "**3 Class Results**"
   ]
  },
  {
   "cell_type": "code",
   "execution_count": 25,
   "metadata": {},
   "outputs": [
    {
     "data": {
      "text/html": [
       "<div>\n",
       "<style scoped>\n",
       "    .dataframe tbody tr th:only-of-type {\n",
       "        vertical-align: middle;\n",
       "    }\n",
       "\n",
       "    .dataframe tbody tr th {\n",
       "        vertical-align: top;\n",
       "    }\n",
       "\n",
       "    .dataframe thead th {\n",
       "        text-align: right;\n",
       "    }\n",
       "</style>\n",
       "<table border=\"1\" class=\"dataframe\">\n",
       "  <thead>\n",
       "    <tr style=\"text-align: right;\">\n",
       "      <th></th>\n",
       "      <th>Model</th>\n",
       "      <th>Accuracy</th>\n",
       "      <th>Precision</th>\n",
       "      <th>Recall</th>\n",
       "      <th>F score</th>\n",
       "    </tr>\n",
       "  </thead>\n",
       "  <tbody>\n",
       "    <tr>\n",
       "      <th>0</th>\n",
       "      <td>Naive Bayes</td>\n",
       "      <td>0.701325</td>\n",
       "      <td>0.638655</td>\n",
       "      <td>0.498019</td>\n",
       "      <td>0.526972</td>\n",
       "    </tr>\n",
       "    <tr>\n",
       "      <th>1</th>\n",
       "      <td>Logistic Regression</td>\n",
       "      <td>0.698289</td>\n",
       "      <td>0.614781</td>\n",
       "      <td>0.544584</td>\n",
       "      <td>0.568320</td>\n",
       "    </tr>\n",
       "    <tr>\n",
       "      <th>2</th>\n",
       "      <td>Random Forest</td>\n",
       "      <td>0.689271</td>\n",
       "      <td>0.611492</td>\n",
       "      <td>0.500463</td>\n",
       "      <td>0.527235</td>\n",
       "    </tr>\n",
       "    <tr>\n",
       "      <th>3</th>\n",
       "      <td>Logistic Regression with Numerical</td>\n",
       "      <td>0.648371</td>\n",
       "      <td>0.216124</td>\n",
       "      <td>0.333333</td>\n",
       "      <td>0.262225</td>\n",
       "    </tr>\n",
       "    <tr>\n",
       "      <th>4</th>\n",
       "      <td>Random Forest with Numerical</td>\n",
       "      <td>0.695114</td>\n",
       "      <td>0.667204</td>\n",
       "      <td>0.472788</td>\n",
       "      <td>0.500113</td>\n",
       "    </tr>\n",
       "    <tr>\n",
       "      <th>0</th>\n",
       "      <td>Naive Bayes upsampled</td>\n",
       "      <td>0.709589</td>\n",
       "      <td>0.710537</td>\n",
       "      <td>0.709674</td>\n",
       "      <td>0.707507</td>\n",
       "    </tr>\n",
       "    <tr>\n",
       "      <th>1</th>\n",
       "      <td>Logistic Regression upsampled</td>\n",
       "      <td>0.772232</td>\n",
       "      <td>0.771554</td>\n",
       "      <td>0.772363</td>\n",
       "      <td>0.771098</td>\n",
       "    </tr>\n",
       "    <tr>\n",
       "      <th>2</th>\n",
       "      <td>Random Forest upsampled</td>\n",
       "      <td>0.880770</td>\n",
       "      <td>0.882480</td>\n",
       "      <td>0.880924</td>\n",
       "      <td>0.878738</td>\n",
       "    </tr>\n",
       "    <tr>\n",
       "      <th>3</th>\n",
       "      <td>Logistic Regression with Numerical upsampled</td>\n",
       "      <td>0.334531</td>\n",
       "      <td>0.291014</td>\n",
       "      <td>0.333936</td>\n",
       "      <td>0.170294</td>\n",
       "    </tr>\n",
       "    <tr>\n",
       "      <th>4</th>\n",
       "      <td>Random Forest with Numerical upsampled</td>\n",
       "      <td>0.896475</td>\n",
       "      <td>0.896928</td>\n",
       "      <td>0.896583</td>\n",
       "      <td>0.895543</td>\n",
       "    </tr>\n",
       "  </tbody>\n",
       "</table>\n",
       "</div>"
      ],
      "text/plain": [
       "                                          Model  Accuracy  Precision  \\\n",
       "0                                   Naive Bayes  0.701325   0.638655   \n",
       "1                           Logistic Regression  0.698289   0.614781   \n",
       "2                                 Random Forest  0.689271   0.611492   \n",
       "3            Logistic Regression with Numerical  0.648371   0.216124   \n",
       "4                  Random Forest with Numerical  0.695114   0.667204   \n",
       "0                         Naive Bayes upsampled  0.709589   0.710537   \n",
       "1                 Logistic Regression upsampled  0.772232   0.771554   \n",
       "2                       Random Forest upsampled  0.880770   0.882480   \n",
       "3  Logistic Regression with Numerical upsampled  0.334531   0.291014   \n",
       "4        Random Forest with Numerical upsampled  0.896475   0.896928   \n",
       "\n",
       "     Recall   F score  \n",
       "0  0.498019  0.526972  \n",
       "1  0.544584  0.568320  \n",
       "2  0.500463  0.527235  \n",
       "3  0.333333  0.262225  \n",
       "4  0.472788  0.500113  \n",
       "0  0.709674  0.707507  \n",
       "1  0.772363  0.771098  \n",
       "2  0.880924  0.878738  \n",
       "3  0.333936  0.170294  \n",
       "4  0.896583  0.895543  "
      ]
     },
     "execution_count": 25,
     "metadata": {},
     "output_type": "execute_result"
    }
   ],
   "source": [
    "class3_df.append(class3_df_ups)"
   ]
  },
  {
   "cell_type": "code",
   "execution_count": null,
   "metadata": {},
   "outputs": [],
   "source": []
  }
 ],
 "metadata": {
  "kernelspec": {
   "display_name": "Python 3",
   "language": "python",
   "name": "python3"
  },
  "language_info": {
   "codemirror_mode": {
    "name": "ipython",
    "version": 3
   },
   "file_extension": ".py",
   "mimetype": "text/x-python",
   "name": "python",
   "nbconvert_exporter": "python",
   "pygments_lexer": "ipython3",
   "version": "3.7.3"
  }
 },
 "nbformat": 4,
 "nbformat_minor": 2
}
