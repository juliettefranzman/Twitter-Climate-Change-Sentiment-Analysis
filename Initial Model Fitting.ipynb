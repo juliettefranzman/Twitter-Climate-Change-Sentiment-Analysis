{
 "cells": [
  {
   "cell_type": "code",
   "execution_count": 1,
   "metadata": {},
   "outputs": [],
   "source": [
    "#imports\n",
    "import pandas as pd\n",
    "import numpy as np\n",
    "from sklearn.model_selection import train_test_split\n",
    "from models import naive_bayes, logistic, random_forest\n",
    "from models import naive_bayes, logistic, random_forest\n",
    "\n",
    "from sklearn.linear_model import LogisticRegression\n",
    "from sklearn.feature_extraction.text import CountVectorizer\n",
    "from sklearn.feature_extraction.text import TfidfVectorizer\n",
    "from sklearn.naive_bayes import MultinomialNB"
   ]
  },
  {
   "cell_type": "code",
   "execution_count": 2,
   "metadata": {},
   "outputs": [],
   "source": [
    "#import the data\n",
    "data = pd.read_csv('data/clean_data.csv',index_col = 0)"
   ]
  },
  {
   "cell_type": "markdown",
   "metadata": {
    "heading_collapsed": true
   },
   "source": [
    "## Fitting a Binary Model"
   ]
  },
  {
   "cell_type": "code",
   "execution_count": 3,
   "metadata": {
    "hidden": true
   },
   "outputs": [],
   "source": [
    "#select only tweets that are pro (1) and anti (-1)\n",
    "binary_data = data[data[\"sentiment\"] != 0]"
   ]
  },
  {
   "cell_type": "code",
   "execution_count": 4,
   "metadata": {
    "hidden": true
   },
   "outputs": [],
   "source": [
    "#split data into testing and training sets \n",
    "X_train, X_test, y_train, y_test = train_test_split(binary_data.drop(labels = \"sentiment\", axis = 1), binary_data[\"sentiment\"], test_size=0.2, random_state=0)"
   ]
  },
  {
   "cell_type": "code",
   "execution_count": 5,
   "metadata": {
    "hidden": true
   },
   "outputs": [],
   "source": [
    "#select just the numerical data\n",
    "X_train_numerical = X_train.loc[:, ['is_retweet', 'is_quoted', 'retweets', 'favorites', 'followers', 'verified',\n",
    "               'exclamation_mark_count', 'question_mark_count']]"
   ]
  },
  {
   "cell_type": "markdown",
   "metadata": {
    "hidden": true
   },
   "source": [
    "#### Perform 5-fold cross validation on each of the potential models"
   ]
  },
  {
   "cell_type": "code",
   "execution_count": 6,
   "metadata": {
    "hidden": true,
    "scrolled": false
   },
   "outputs": [],
   "source": [
    "#fit the models and obtain test error estimates\n",
    "nb = naive_bayes(X_train[\"clean text\"].values, y_train.values)\n",
    "log = logistic(X_train[\"clean text\"].values, y_train.values)\n",
    "rf = random_forest(X_train[\"clean text\"].values, y_train.values)\n",
    "log_with_numeric = logistic(X_train[\"clean text\"].values, y_train.values, X_train_numerical.values)\n",
    "rf_with_numeric = random_forest(X_train[\"clean text\"].values, y_train.values, X_train_numerical.values)"
   ]
  },
  {
   "cell_type": "code",
   "execution_count": 8,
   "metadata": {
    "hidden": true
   },
   "outputs": [
    {
     "data": {
      "text/html": [
       "<div>\n",
       "<style scoped>\n",
       "    .dataframe tbody tr th:only-of-type {\n",
       "        vertical-align: middle;\n",
       "    }\n",
       "\n",
       "    .dataframe tbody tr th {\n",
       "        vertical-align: top;\n",
       "    }\n",
       "\n",
       "    .dataframe thead th {\n",
       "        text-align: right;\n",
       "    }\n",
       "</style>\n",
       "<table border=\"1\" class=\"dataframe\">\n",
       "  <thead>\n",
       "    <tr style=\"text-align: right;\">\n",
       "      <th></th>\n",
       "      <th>Model</th>\n",
       "      <th>Accuracy</th>\n",
       "    </tr>\n",
       "  </thead>\n",
       "  <tbody>\n",
       "    <tr>\n",
       "      <th>0</th>\n",
       "      <td>Naive Bayes (2)</td>\n",
       "      <td>0.879172</td>\n",
       "    </tr>\n",
       "    <tr>\n",
       "      <th>1</th>\n",
       "      <td>Logistic Regression (2)</td>\n",
       "      <td>0.884428</td>\n",
       "    </tr>\n",
       "    <tr>\n",
       "      <th>2</th>\n",
       "      <td>Random Forest (2)</td>\n",
       "      <td>0.875762</td>\n",
       "    </tr>\n",
       "    <tr>\n",
       "      <th>3</th>\n",
       "      <td>Logistic Regression with Numerical (2)</td>\n",
       "      <td>0.841711</td>\n",
       "    </tr>\n",
       "    <tr>\n",
       "      <th>4</th>\n",
       "      <td>Random Forest with Numerical (2)</td>\n",
       "      <td>0.873022</td>\n",
       "    </tr>\n",
       "  </tbody>\n",
       "</table>\n",
       "</div>"
      ],
      "text/plain": [
       "                                    Model  Accuracy\n",
       "0                         Naive Bayes (2)  0.879172\n",
       "1                 Logistic Regression (2)  0.884428\n",
       "2                       Random Forest (2)  0.875762\n",
       "3  Logistic Regression with Numerical (2)  0.841711\n",
       "4        Random Forest with Numerical (2)  0.873022"
      ]
     },
     "execution_count": 8,
     "metadata": {},
     "output_type": "execute_result"
    }
   ],
   "source": [
    "binary_df = pd.DataFrame(data ={'Model':['Naive Bayes (2)',\n",
    "                                         'Logistic Regression (2)',\n",
    "                                         'Random Forest (2)', \n",
    "                                         'Logistic Regression with Numerical (2)',\n",
    "                                         'Random Forest with Numerical (2)'], \n",
    "                                'Accuracy': [nb,log,rf,log_with_numeric,rf_with_numeric] } )\n",
    "binary_df"
   ]
  },
  {
   "cell_type": "markdown",
   "metadata": {
    "heading_collapsed": true
   },
   "source": [
    "## Fitting a Binary Model with Upsampling"
   ]
  },
  {
   "cell_type": "markdown",
   "metadata": {
    "hidden": true
   },
   "source": [
    "Our dataset contains class imbalance, so we will try to account for this by upsampling the -1 class."
   ]
  },
  {
   "cell_type": "code",
   "execution_count": 9,
   "metadata": {
    "hidden": true
   },
   "outputs": [
    {
     "name": "stdout",
     "output_type": "stream",
     "text": [
      "class 1:  0.8401842823276826\n",
      "class -1:  0.1598157176723174\n"
     ]
    }
   ],
   "source": [
    "n = len(binary_data)\n",
    "print('class 1: ', len(binary_data[binary_data['sentiment']==1])/n)\n",
    "print('class -1: ', len(binary_data[binary_data['sentiment']==-1])/n)"
   ]
  },
  {
   "cell_type": "code",
   "execution_count": 10,
   "metadata": {
    "hidden": true
   },
   "outputs": [
    {
     "name": "stdout",
     "output_type": "stream",
     "text": [
      "class 1:  0.5\n",
      "class -1:  0.5\n"
     ]
    }
   ],
   "source": [
    "# randomly sample values from the smaller clss untill the classes are balanced\n",
    "np.random.seed(123)\n",
    "\n",
    "diff = (len(binary_data[binary_data['sentiment']==1]) - \n",
    "        len(binary_data[binary_data['sentiment']==-1])) # want to creat 50 - 50 balance\n",
    "neg_data = binary_data[binary_data['sentiment']==-1] # sample to choose from\n",
    "upsample_index = np.random.choice(neg_data.index,size=diff) # sample with repetition\n",
    "binary_data_ups = binary_data.append(neg_data.loc[upsample_index]).sample(frac=1)\n",
    "\n",
    "n = len(binary_data_ups)\n",
    "print('class 1: ', len(binary_data_ups[binary_data_ups['sentiment']==1])/n)\n",
    "print('class -1: ', len(binary_data_ups[binary_data_ups['sentiment']==-1])/n)"
   ]
  },
  {
   "cell_type": "code",
   "execution_count": 11,
   "metadata": {
    "hidden": true
   },
   "outputs": [],
   "source": [
    "#split data into testing and training sets \n",
    "X_train, X_test, y_train, y_test = train_test_split(binary_data_ups.drop(labels = \"sentiment\", axis = 1), binary_data_ups[\"sentiment\"], test_size=0.2, random_state=0)"
   ]
  },
  {
   "cell_type": "code",
   "execution_count": 12,
   "metadata": {
    "hidden": true
   },
   "outputs": [],
   "source": [
    "#select just the numerical data\n",
    "X_train_numerical = X_train.loc[:, ['is_retweet', 'is_quoted', 'retweets', 'favorites', 'followers', 'verified',\n",
    "               'exclamation_mark_count', 'question_mark_count']]"
   ]
  },
  {
   "cell_type": "markdown",
   "metadata": {
    "hidden": true
   },
   "source": [
    "#### Perform 5-fold cross validation on each of the potential models"
   ]
  },
  {
   "cell_type": "code",
   "execution_count": 13,
   "metadata": {
    "hidden": true,
    "scrolled": true
   },
   "outputs": [],
   "source": [
    "#fit the models and obtain test error estimates\n",
    "nb = naive_bayes(X_train[\"clean text\"].values, y_train.values)\n",
    "log = logistic(X_train[\"clean text\"].values, y_train.values)\n",
    "rf = random_forest(X_train[\"clean text\"].values, y_train.values)\n",
    "log_with_numeric = logistic(X_train[\"clean text\"].values, y_train.values, X_train_numerical.values)\n",
    "rf_with_numeric = random_forest(X_train[\"clean text\"].values, y_train.values, X_train_numerical.values)"
   ]
  },
  {
   "cell_type": "code",
   "execution_count": 14,
   "metadata": {
    "hidden": true
   },
   "outputs": [
    {
     "data": {
      "text/html": [
       "<div>\n",
       "<style scoped>\n",
       "    .dataframe tbody tr th:only-of-type {\n",
       "        vertical-align: middle;\n",
       "    }\n",
       "\n",
       "    .dataframe tbody tr th {\n",
       "        vertical-align: top;\n",
       "    }\n",
       "\n",
       "    .dataframe thead th {\n",
       "        text-align: right;\n",
       "    }\n",
       "</style>\n",
       "<table border=\"1\" class=\"dataframe\">\n",
       "  <thead>\n",
       "    <tr style=\"text-align: right;\">\n",
       "      <th></th>\n",
       "      <th>Model</th>\n",
       "      <th>Accuracy</th>\n",
       "    </tr>\n",
       "  </thead>\n",
       "  <tbody>\n",
       "    <tr>\n",
       "      <th>0</th>\n",
       "      <td>Naive Bayes (2) upsampled</td>\n",
       "      <td>0.844147</td>\n",
       "    </tr>\n",
       "    <tr>\n",
       "      <th>1</th>\n",
       "      <td>Logistic Regression (2) upsampled</td>\n",
       "      <td>0.878985</td>\n",
       "    </tr>\n",
       "    <tr>\n",
       "      <th>2</th>\n",
       "      <td>Random Forest (2) upsampled</td>\n",
       "      <td>0.946430</td>\n",
       "    </tr>\n",
       "    <tr>\n",
       "      <th>3</th>\n",
       "      <td>Logistic Regression with Numerical (2) upsampled</td>\n",
       "      <td>0.494277</td>\n",
       "    </tr>\n",
       "    <tr>\n",
       "      <th>4</th>\n",
       "      <td>Random Forest with Numerical (2) upsampled</td>\n",
       "      <td>0.959406</td>\n",
       "    </tr>\n",
       "  </tbody>\n",
       "</table>\n",
       "</div>"
      ],
      "text/plain": [
       "                                              Model  Accuracy\n",
       "0                         Naive Bayes (2) upsampled  0.844147\n",
       "1                 Logistic Regression (2) upsampled  0.878985\n",
       "2                       Random Forest (2) upsampled  0.946430\n",
       "3  Logistic Regression with Numerical (2) upsampled  0.494277\n",
       "4        Random Forest with Numerical (2) upsampled  0.959406"
      ]
     },
     "execution_count": 14,
     "metadata": {},
     "output_type": "execute_result"
    }
   ],
   "source": [
    "binary_df_ups = pd.DataFrame(data ={'Model':['Naive Bayes (2) upsampled',\n",
    "                                             'Logistic Regression (2) upsampled',\n",
    "                                             'Random Forest (2) upsampled', \n",
    "                                             'Logistic Regression with Numerical (2) upsampled',\n",
    "                                             'Random Forest with Numerical (2) upsampled'], \n",
    "                                    'Accuracy': [nb,log,rf,log_with_numeric,rf_with_numeric] } )\n",
    "binary_df_ups"
   ]
  },
  {
   "cell_type": "markdown",
   "metadata": {
    "heading_collapsed": true
   },
   "source": [
    "## Test performance and fitting the final binary model"
   ]
  },
  {
   "cell_type": "code",
   "execution_count": null,
   "metadata": {
    "hidden": true
   },
   "outputs": [],
   "source": [
    "# note: i don't think we should be doing this until we decide on the final model"
   ]
  },
  {
   "cell_type": "markdown",
   "metadata": {
    "hidden": true
   },
   "source": [
    "#### Fit the best model and obtain the final test error estimate"
   ]
  },
  {
   "cell_type": "code",
   "execution_count": 19,
   "metadata": {
    "hidden": true
   },
   "outputs": [
    {
     "data": {
      "text/plain": [
       "0.8761180679785331"
      ]
     },
     "execution_count": 19,
     "metadata": {},
     "output_type": "execute_result"
    }
   ],
   "source": [
    "#vectorize\n",
    "vectorizer = CountVectorizer()\n",
    "train = vectorizer.fit_transform(X_train[\"clean text\"].values)\n",
    "test = vectorizer.transform(X_test[\"clean text\"].values)\n",
    "        \n",
    "#run logistic regression\n",
    "logistic_classifier = LogisticRegression(random_state=0, max_iter = 2000)\n",
    "logistic_classifier.fit(train, y_train.values)\n",
    "        \n",
    "#obtain the test accuracy\n",
    "logistic_classifier.score(test, y_test.values)"
   ]
  },
  {
   "cell_type": "markdown",
   "metadata": {
    "hidden": true
   },
   "source": [
    "##### Fit the final model"
   ]
  },
  {
   "cell_type": "code",
   "execution_count": 21,
   "metadata": {
    "hidden": true
   },
   "outputs": [
    {
     "data": {
      "text/plain": [
       "LogisticRegression(C=1.0, class_weight=None, dual=False, fit_intercept=True,\n",
       "                   intercept_scaling=1, l1_ratio=None, max_iter=2000,\n",
       "                   multi_class='auto', n_jobs=None, penalty='l2',\n",
       "                   random_state=0, solver='lbfgs', tol=0.0001, verbose=0,\n",
       "                   warm_start=False)"
      ]
     },
     "execution_count": 21,
     "metadata": {},
     "output_type": "execute_result"
    }
   ],
   "source": [
    "vectorizer = CountVectorizer()\n",
    "vec = vectorizer.fit_transform(data[\"clean text\"].values)\n",
    "        \n",
    "#run logistic regression\n",
    "logistic_classifier = LogisticRegression(random_state=0, max_iter = 2000)\n",
    "logistic_classifier.fit(vec, data[\"sentiment\"].values)"
   ]
  },
  {
   "cell_type": "code",
   "execution_count": 22,
   "metadata": {
    "hidden": true
   },
   "outputs": [
    {
     "data": {
      "text/plain": [
       "array([[-0.064229  , -0.08045319, -0.01437724, ..., -0.00890921,\n",
       "         0.67050556,  0.39071954],\n",
       "       [ 0.39435001, -0.45111389, -0.08785605, ...,  0.33158911,\n",
       "        -0.13981684, -0.27403148],\n",
       "       [-0.33012102,  0.53156708,  0.10223329, ..., -0.32267991,\n",
       "        -0.53068872, -0.11668806]])"
      ]
     },
     "execution_count": 22,
     "metadata": {},
     "output_type": "execute_result"
    }
   ],
   "source": [
    "logistic_classifier.coef_"
   ]
  },
  {
   "cell_type": "markdown",
   "metadata": {
    "heading_collapsed": true
   },
   "source": [
    "## Fitting a 3 Class Model"
   ]
  },
  {
   "cell_type": "code",
   "execution_count": 15,
   "metadata": {
    "hidden": true
   },
   "outputs": [],
   "source": [
    "#split data into testing and training sets\n",
    "X_train, X_test, y_train, y_test = train_test_split(data.drop(labels = \"sentiment\", axis = 1), data[\"sentiment\"])"
   ]
  },
  {
   "cell_type": "code",
   "execution_count": 16,
   "metadata": {
    "hidden": true
   },
   "outputs": [],
   "source": [
    "#select just the numerical data\n",
    "X_train_numerical = X_train.loc[:, ['is_retweet', 'is_quoted', 'retweets', 'favorites', 'followers', 'verified',\n",
    "               'exclamation_mark_count', 'question_mark_count']]"
   ]
  },
  {
   "cell_type": "markdown",
   "metadata": {
    "hidden": true
   },
   "source": [
    "##### Perform 5-fold cross validation on each of the models"
   ]
  },
  {
   "cell_type": "code",
   "execution_count": 17,
   "metadata": {
    "hidden": true,
    "scrolled": true
   },
   "outputs": [],
   "source": [
    "#fit the models and obtain test error estimates\n",
    "nb = naive_bayes(X_train[\"clean text\"].values, y_train.values)\n",
    "log = logistic(X_train[\"clean text\"].values, y_train.values)\n",
    "rf = random_forest(X_train[\"clean text\"].values, y_train.values)\n",
    "log_with_numeric = logistic(X_train[\"clean text\"].values, y_train.values, X_train_numerical.values)\n",
    "rf_with_numeric = random_forest(X_train[\"clean text\"].values, y_train.values, X_train_numerical.values)"
   ]
  },
  {
   "cell_type": "code",
   "execution_count": 18,
   "metadata": {
    "hidden": true
   },
   "outputs": [
    {
     "data": {
      "text/html": [
       "<div>\n",
       "<style scoped>\n",
       "    .dataframe tbody tr th:only-of-type {\n",
       "        vertical-align: middle;\n",
       "    }\n",
       "\n",
       "    .dataframe tbody tr th {\n",
       "        vertical-align: top;\n",
       "    }\n",
       "\n",
       "    .dataframe thead th {\n",
       "        text-align: right;\n",
       "    }\n",
       "</style>\n",
       "<table border=\"1\" class=\"dataframe\">\n",
       "  <thead>\n",
       "    <tr style=\"text-align: right;\">\n",
       "      <th></th>\n",
       "      <th>Model</th>\n",
       "      <th>Accuracy</th>\n",
       "    </tr>\n",
       "  </thead>\n",
       "  <tbody>\n",
       "    <tr>\n",
       "      <th>0</th>\n",
       "      <td>Naive Bayes (3)</td>\n",
       "      <td>0.701325</td>\n",
       "    </tr>\n",
       "    <tr>\n",
       "      <th>1</th>\n",
       "      <td>Logistic Regression (3)</td>\n",
       "      <td>0.706386</td>\n",
       "    </tr>\n",
       "    <tr>\n",
       "      <th>2</th>\n",
       "      <td>Random Forest (3)</td>\n",
       "      <td>0.689271</td>\n",
       "    </tr>\n",
       "    <tr>\n",
       "      <th>3</th>\n",
       "      <td>Logistic Regression with Numerical (3)</td>\n",
       "      <td>0.648233</td>\n",
       "    </tr>\n",
       "    <tr>\n",
       "      <th>4</th>\n",
       "      <td>Random Forest with Numerical (3)</td>\n",
       "      <td>0.695114</td>\n",
       "    </tr>\n",
       "  </tbody>\n",
       "</table>\n",
       "</div>"
      ],
      "text/plain": [
       "                                    Model  Accuracy\n",
       "0                         Naive Bayes (3)  0.701325\n",
       "1                 Logistic Regression (3)  0.706386\n",
       "2                       Random Forest (3)  0.689271\n",
       "3  Logistic Regression with Numerical (3)  0.648233\n",
       "4        Random Forest with Numerical (3)  0.695114"
      ]
     },
     "execution_count": 18,
     "metadata": {},
     "output_type": "execute_result"
    }
   ],
   "source": [
    "class3_df = pd.DataFrame(data ={'Model':['Naive Bayes (3)',\n",
    "                                         'Logistic Regression (3)',\n",
    "                                         'Random Forest (3)', \n",
    "                                         'Logistic Regression with Numerical (3)',\n",
    "                                         'Random Forest with Numerical (3)'], \n",
    "                                'Accuracy': [nb,log,rf,log_with_numeric,rf_with_numeric] } )\n",
    "class3_df"
   ]
  },
  {
   "cell_type": "markdown",
   "metadata": {},
   "source": [
    "## Fitting a 3 Class Model with Upsampling"
   ]
  },
  {
   "cell_type": "code",
   "execution_count": 19,
   "metadata": {},
   "outputs": [
    {
     "name": "stdout",
     "output_type": "stream",
     "text": [
      "class 1:  0.6481264232972189\n",
      "class 0:  0.22859015940928853\n",
      "class -1:  0.12328341729349251\n"
     ]
    }
   ],
   "source": [
    "n = len(data)\n",
    "print('class 1: ', len(data[data['sentiment']==1])/n)\n",
    "print('class 0: ', len(data[data['sentiment']==0])/n)\n",
    "print('class -1: ', len(data[data['sentiment']==-1])/n)"
   ]
  },
  {
   "cell_type": "code",
   "execution_count": 20,
   "metadata": {},
   "outputs": [
    {
     "name": "stdout",
     "output_type": "stream",
     "text": [
      "class 1:  0.3333333333333333\n",
      "class 0:  0.3333333333333333\n",
      "class -1:  0.3333333333333333\n"
     ]
    }
   ],
   "source": [
    "np.random.seed(123)\n",
    "\n",
    "diffneg = (len(data[data['sentiment']==1]) - \n",
    "        len(data[data['sentiment']==-1])) # want to creat 33-33-33 balance\n",
    "diffneu = (len(data[data['sentiment']==1]) - \n",
    "        len(data[data['sentiment']==0])) # want to creat 33-33-33 balance\n",
    "\n",
    "neg_data = data[data['sentiment']==-1] # sample to choose from\n",
    "neu_data = data[data['sentiment']==0] # sample to choose from\n",
    "\n",
    "upsample_index_neg = np.random.choice(neg_data.index,size=diffneg) # sample with repetition\n",
    "upsample_index_neu = np.random.choice(neu_data.index,size=diffneu) # sample with repetition\n",
    "\n",
    "data_ups = data.append(neg_data.loc[upsample_index_neg]).append(neu_data.loc[upsample_index_neu]).sample(frac=1)\n",
    "\n",
    "n = len(data_ups)\n",
    "print('class 1: ', len(data_ups[data_ups['sentiment']==1])/n)\n",
    "print('class 0: ', len(data_ups[data_ups['sentiment']==0])/n)\n",
    "print('class -1: ', len(data_ups[data_ups['sentiment']==-1])/n)"
   ]
  },
  {
   "cell_type": "code",
   "execution_count": 21,
   "metadata": {},
   "outputs": [],
   "source": [
    "#split data into testing and training sets \n",
    "X_train, X_test, y_train, y_test = train_test_split(data_ups.drop(labels = \"sentiment\", axis = 1), data_ups[\"sentiment\"], test_size=0.2, random_state=0)"
   ]
  },
  {
   "cell_type": "code",
   "execution_count": 22,
   "metadata": {},
   "outputs": [],
   "source": [
    "#select just the numerical data\n",
    "X_train_numerical = X_train.loc[:, ['is_retweet', 'is_quoted', 'retweets', 'favorites', 'followers', 'verified',\n",
    "               'exclamation_mark_count', 'question_mark_count']]"
   ]
  },
  {
   "cell_type": "markdown",
   "metadata": {},
   "source": [
    "#### Perform 5-fold cross validation on each of the potential models"
   ]
  },
  {
   "cell_type": "code",
   "execution_count": 23,
   "metadata": {
    "scrolled": true
   },
   "outputs": [],
   "source": [
    "#fit the models and obtain test error estimates\n",
    "nb = naive_bayes(X_train[\"clean text\"].values, y_train.values)\n",
    "log = logistic(X_train[\"clean text\"].values, y_train.values)\n",
    "rf = random_forest(X_train[\"clean text\"].values, y_train.values)\n",
    "log_with_numeric = logistic(X_train[\"clean text\"].values, y_train.values, X_train_numerical.values)\n",
    "rf_with_numeric = random_forest(X_train[\"clean text\"].values, y_train.values, X_train_numerical.values)"
   ]
  },
  {
   "cell_type": "code",
   "execution_count": 24,
   "metadata": {},
   "outputs": [
    {
     "data": {
      "text/html": [
       "<div>\n",
       "<style scoped>\n",
       "    .dataframe tbody tr th:only-of-type {\n",
       "        vertical-align: middle;\n",
       "    }\n",
       "\n",
       "    .dataframe tbody tr th {\n",
       "        vertical-align: top;\n",
       "    }\n",
       "\n",
       "    .dataframe thead th {\n",
       "        text-align: right;\n",
       "    }\n",
       "</style>\n",
       "<table border=\"1\" class=\"dataframe\">\n",
       "  <thead>\n",
       "    <tr style=\"text-align: right;\">\n",
       "      <th></th>\n",
       "      <th>Model</th>\n",
       "      <th>Accuracy</th>\n",
       "    </tr>\n",
       "  </thead>\n",
       "  <tbody>\n",
       "    <tr>\n",
       "      <th>0</th>\n",
       "      <td>Naive Bayes (3) upsampled</td>\n",
       "      <td>0.709589</td>\n",
       "    </tr>\n",
       "    <tr>\n",
       "      <th>1</th>\n",
       "      <td>Logistic Regression (3) upsampled</td>\n",
       "      <td>0.760542</td>\n",
       "    </tr>\n",
       "    <tr>\n",
       "      <th>2</th>\n",
       "      <td>Random Forest (3) upsampled</td>\n",
       "      <td>0.880770</td>\n",
       "    </tr>\n",
       "    <tr>\n",
       "      <th>3</th>\n",
       "      <td>Logistic Regression with Numerical (3) upsampled</td>\n",
       "      <td>0.330339</td>\n",
       "    </tr>\n",
       "    <tr>\n",
       "      <th>4</th>\n",
       "      <td>Random Forest with Numerical (3) upsampled</td>\n",
       "      <td>0.896475</td>\n",
       "    </tr>\n",
       "  </tbody>\n",
       "</table>\n",
       "</div>"
      ],
      "text/plain": [
       "                                              Model  Accuracy\n",
       "0                         Naive Bayes (3) upsampled  0.709589\n",
       "1                 Logistic Regression (3) upsampled  0.760542\n",
       "2                       Random Forest (3) upsampled  0.880770\n",
       "3  Logistic Regression with Numerical (3) upsampled  0.330339\n",
       "4        Random Forest with Numerical (3) upsampled  0.896475"
      ]
     },
     "execution_count": 24,
     "metadata": {},
     "output_type": "execute_result"
    }
   ],
   "source": [
    "class3_df_ups = pd.DataFrame(data ={'Model':['Naive Bayes (3) upsampled',\n",
    "                                             'Logistic Regression (3) upsampled',\n",
    "                                             'Random Forest (3) upsampled', \n",
    "                                             'Logistic Regression with Numerical (3) upsampled',\n",
    "                                             'Random Forest with Numerical (3) upsampled'], \n",
    "                                    'Accuracy': [nb,log,rf,log_with_numeric,rf_with_numeric] } )\n",
    "class3_df_ups"
   ]
  },
  {
   "cell_type": "markdown",
   "metadata": {},
   "source": [
    "## Test performance and fitting the final binary model"
   ]
  },
  {
   "cell_type": "markdown",
   "metadata": {},
   "source": [
    "###### Fit the best model and obtain the final test error estimate"
   ]
  },
  {
   "cell_type": "code",
   "execution_count": 30,
   "metadata": {},
   "outputs": [
    {
     "data": {
      "text/plain": [
       "0.7071487717361303"
      ]
     },
     "execution_count": 30,
     "metadata": {},
     "output_type": "execute_result"
    }
   ],
   "source": [
    "#vectorize\n",
    "vectorizer = CountVectorizer()\n",
    "train = vectorizer.fit_transform(X_train[\"clean text\"].values)\n",
    "test = vectorizer.transform(X_test[\"clean text\"].values)\n",
    "        \n",
    "#naive bayes    \n",
    "nb_classifier = MultinomialNB()\n",
    "nb_classifier.fit(train, y_train.values)\n",
    "      \n",
    "#obtain the test accuracy\n",
    "nb_classifier.score(test, y_test.values)"
   ]
  },
  {
   "cell_type": "markdown",
   "metadata": {},
   "source": [
    "## Comparing model performance"
   ]
  },
  {
   "cell_type": "markdown",
   "metadata": {},
   "source": [
    "This is not much better than the null classifier as we found in the exploratory data analysis. To improve this we will next try:\n",
    "- upsampling\n",
    "- n-grams\n",
    "- scaling the numerical data"
   ]
  },
  {
   "cell_type": "code",
   "execution_count": 29,
   "metadata": {},
   "outputs": [
    {
     "data": {
      "text/html": [
       "<div>\n",
       "<style scoped>\n",
       "    .dataframe tbody tr th:only-of-type {\n",
       "        vertical-align: middle;\n",
       "    }\n",
       "\n",
       "    .dataframe tbody tr th {\n",
       "        vertical-align: top;\n",
       "    }\n",
       "\n",
       "    .dataframe thead th {\n",
       "        text-align: right;\n",
       "    }\n",
       "</style>\n",
       "<table border=\"1\" class=\"dataframe\">\n",
       "  <thead>\n",
       "    <tr style=\"text-align: right;\">\n",
       "      <th></th>\n",
       "      <th>Model</th>\n",
       "      <th>Accuracy</th>\n",
       "    </tr>\n",
       "  </thead>\n",
       "  <tbody>\n",
       "    <tr>\n",
       "      <th>0</th>\n",
       "      <td>Naive Bayes (2)</td>\n",
       "      <td>0.879172</td>\n",
       "    </tr>\n",
       "    <tr>\n",
       "      <th>1</th>\n",
       "      <td>Logistic Regression (2)</td>\n",
       "      <td>0.884428</td>\n",
       "    </tr>\n",
       "    <tr>\n",
       "      <th>2</th>\n",
       "      <td>Random Forest (2)</td>\n",
       "      <td>0.875762</td>\n",
       "    </tr>\n",
       "    <tr>\n",
       "      <th>3</th>\n",
       "      <td>Logistic Regression with Numerical (2)</td>\n",
       "      <td>0.841711</td>\n",
       "    </tr>\n",
       "    <tr>\n",
       "      <th>4</th>\n",
       "      <td>Random Forest with Numerical (2)</td>\n",
       "      <td>0.873022</td>\n",
       "    </tr>\n",
       "    <tr>\n",
       "      <th>0</th>\n",
       "      <td>Naive Bayes (2) upsampled</td>\n",
       "      <td>0.844147</td>\n",
       "    </tr>\n",
       "    <tr>\n",
       "      <th>1</th>\n",
       "      <td>Logistic Regression (2) upsampled</td>\n",
       "      <td>0.878985</td>\n",
       "    </tr>\n",
       "    <tr>\n",
       "      <th>2</th>\n",
       "      <td>Random Forest (2) upsampled</td>\n",
       "      <td>0.946430</td>\n",
       "    </tr>\n",
       "    <tr>\n",
       "      <th>3</th>\n",
       "      <td>Logistic Regression with Numerical (2) upsampled</td>\n",
       "      <td>0.494277</td>\n",
       "    </tr>\n",
       "    <tr>\n",
       "      <th>4</th>\n",
       "      <td>Random Forest with Numerical (2) upsampled</td>\n",
       "      <td>0.959406</td>\n",
       "    </tr>\n",
       "  </tbody>\n",
       "</table>\n",
       "</div>"
      ],
      "text/plain": [
       "                                              Model  Accuracy\n",
       "0                                   Naive Bayes (2)  0.879172\n",
       "1                           Logistic Regression (2)  0.884428\n",
       "2                                 Random Forest (2)  0.875762\n",
       "3            Logistic Regression with Numerical (2)  0.841711\n",
       "4                  Random Forest with Numerical (2)  0.873022\n",
       "0                         Naive Bayes (2) upsampled  0.844147\n",
       "1                 Logistic Regression (2) upsampled  0.878985\n",
       "2                       Random Forest (2) upsampled  0.946430\n",
       "3  Logistic Regression with Numerical (2) upsampled  0.494277\n",
       "4        Random Forest with Numerical (2) upsampled  0.959406"
      ]
     },
     "execution_count": 29,
     "metadata": {},
     "output_type": "execute_result"
    }
   ],
   "source": [
    "binary_df.append(binary_df_ups)"
   ]
  },
  {
   "cell_type": "code",
   "execution_count": 30,
   "metadata": {},
   "outputs": [
    {
     "data": {
      "text/html": [
       "<div>\n",
       "<style scoped>\n",
       "    .dataframe tbody tr th:only-of-type {\n",
       "        vertical-align: middle;\n",
       "    }\n",
       "\n",
       "    .dataframe tbody tr th {\n",
       "        vertical-align: top;\n",
       "    }\n",
       "\n",
       "    .dataframe thead th {\n",
       "        text-align: right;\n",
       "    }\n",
       "</style>\n",
       "<table border=\"1\" class=\"dataframe\">\n",
       "  <thead>\n",
       "    <tr style=\"text-align: right;\">\n",
       "      <th></th>\n",
       "      <th>Model</th>\n",
       "      <th>Accuracy</th>\n",
       "    </tr>\n",
       "  </thead>\n",
       "  <tbody>\n",
       "    <tr>\n",
       "      <th>0</th>\n",
       "      <td>Naive Bayes (3)</td>\n",
       "      <td>0.701325</td>\n",
       "    </tr>\n",
       "    <tr>\n",
       "      <th>1</th>\n",
       "      <td>Logistic Regression (3)</td>\n",
       "      <td>0.706386</td>\n",
       "    </tr>\n",
       "    <tr>\n",
       "      <th>2</th>\n",
       "      <td>Random Forest (3)</td>\n",
       "      <td>0.689271</td>\n",
       "    </tr>\n",
       "    <tr>\n",
       "      <th>3</th>\n",
       "      <td>Logistic Regression with Numerical (3)</td>\n",
       "      <td>0.648233</td>\n",
       "    </tr>\n",
       "    <tr>\n",
       "      <th>4</th>\n",
       "      <td>Random Forest with Numerical (3)</td>\n",
       "      <td>0.695114</td>\n",
       "    </tr>\n",
       "    <tr>\n",
       "      <th>0</th>\n",
       "      <td>Naive Bayes (3) upsampled</td>\n",
       "      <td>0.709589</td>\n",
       "    </tr>\n",
       "    <tr>\n",
       "      <th>1</th>\n",
       "      <td>Logistic Regression (3) upsampled</td>\n",
       "      <td>0.760542</td>\n",
       "    </tr>\n",
       "    <tr>\n",
       "      <th>2</th>\n",
       "      <td>Random Forest (3) upsampled</td>\n",
       "      <td>0.880770</td>\n",
       "    </tr>\n",
       "    <tr>\n",
       "      <th>3</th>\n",
       "      <td>Logistic Regression with Numerical (3) upsampled</td>\n",
       "      <td>0.330339</td>\n",
       "    </tr>\n",
       "    <tr>\n",
       "      <th>4</th>\n",
       "      <td>Random Forest with Numerical (3) upsampled</td>\n",
       "      <td>0.896475</td>\n",
       "    </tr>\n",
       "  </tbody>\n",
       "</table>\n",
       "</div>"
      ],
      "text/plain": [
       "                                              Model  Accuracy\n",
       "0                                   Naive Bayes (3)  0.701325\n",
       "1                           Logistic Regression (3)  0.706386\n",
       "2                                 Random Forest (3)  0.689271\n",
       "3            Logistic Regression with Numerical (3)  0.648233\n",
       "4                  Random Forest with Numerical (3)  0.695114\n",
       "0                         Naive Bayes (3) upsampled  0.709589\n",
       "1                 Logistic Regression (3) upsampled  0.760542\n",
       "2                       Random Forest (3) upsampled  0.880770\n",
       "3  Logistic Regression with Numerical (3) upsampled  0.330339\n",
       "4        Random Forest with Numerical (3) upsampled  0.896475"
      ]
     },
     "execution_count": 30,
     "metadata": {},
     "output_type": "execute_result"
    }
   ],
   "source": [
    "class3_df.append(class3_df_ups)"
   ]
  },
  {
   "cell_type": "code",
   "execution_count": null,
   "metadata": {},
   "outputs": [],
   "source": []
  }
 ],
 "metadata": {
  "kernelspec": {
   "display_name": "Python 3",
   "language": "python",
   "name": "python3"
  },
  "language_info": {
   "codemirror_mode": {
    "name": "ipython",
    "version": 3
   },
   "file_extension": ".py",
   "mimetype": "text/x-python",
   "name": "python",
   "nbconvert_exporter": "python",
   "pygments_lexer": "ipython3",
   "version": "3.7.3"
  }
 },
 "nbformat": 4,
 "nbformat_minor": 2
}
