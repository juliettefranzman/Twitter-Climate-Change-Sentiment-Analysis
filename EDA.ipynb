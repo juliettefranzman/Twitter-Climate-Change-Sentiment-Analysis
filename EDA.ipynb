{
 "cells": [
  {
   "cell_type": "markdown",
   "metadata": {},
   "source": [
    "# Exploratory Data Analysis"
   ]
  },
  {
   "cell_type": "code",
   "execution_count": 156,
   "metadata": {},
   "outputs": [],
   "source": [
    "from models import naive_bayes, logistic, random_forest"
   ]
  },
  {
   "cell_type": "code",
   "execution_count": 155,
   "metadata": {},
   "outputs": [],
   "source": [
    "import pandas as pd\n",
    "import numpy as np\n",
    "import pandas as pd\n",
    "import numpy as np\n",
    "import seaborn as sns\n",
    "import matplotlib.pyplot as plt"
   ]
  },
  {
   "cell_type": "code",
   "execution_count": 120,
   "metadata": {},
   "outputs": [],
   "source": [
    "#import data \n",
    "data = pd.read_csv('clean_data.csv.txt',index_col = 0)"
   ]
  },
  {
   "cell_type": "code",
   "execution_count": 121,
   "metadata": {},
   "outputs": [
    {
     "data": {
      "text/html": [
       "<div>\n",
       "<style scoped>\n",
       "    .dataframe tbody tr th:only-of-type {\n",
       "        vertical-align: middle;\n",
       "    }\n",
       "\n",
       "    .dataframe tbody tr th {\n",
       "        vertical-align: top;\n",
       "    }\n",
       "\n",
       "    .dataframe thead th {\n",
       "        text-align: right;\n",
       "    }\n",
       "</style>\n",
       "<table border=\"1\" class=\"dataframe\">\n",
       "  <thead>\n",
       "    <tr style=\"text-align: right;\">\n",
       "      <th></th>\n",
       "      <th>clean text</th>\n",
       "      <th>tweetid</th>\n",
       "      <th>is_retweet</th>\n",
       "      <th>is_quoted</th>\n",
       "      <th>date_time</th>\n",
       "      <th>retweets</th>\n",
       "      <th>favorites</th>\n",
       "      <th>followers</th>\n",
       "      <th>verified</th>\n",
       "      <th>location</th>\n",
       "      <th>exclamation_mark_count</th>\n",
       "      <th>question_mark_count</th>\n",
       "      <th>imputed</th>\n",
       "      <th>sentiment</th>\n",
       "    </tr>\n",
       "  </thead>\n",
       "  <tbody>\n",
       "    <tr>\n",
       "      <td>2</td>\n",
       "      <td>aaaaaand delet glob warm rain tweet cas miss s...</td>\n",
       "      <td>794050846807982080</td>\n",
       "      <td>1</td>\n",
       "      <td>0</td>\n",
       "      <td>2016-11-03 05:37:29.000</td>\n",
       "      <td>47</td>\n",
       "      <td>79</td>\n",
       "      <td>20106</td>\n",
       "      <td>1</td>\n",
       "      <td>NYC</td>\n",
       "      <td>0</td>\n",
       "      <td>0</td>\n",
       "      <td>False</td>\n",
       "      <td>-1</td>\n",
       "    </tr>\n",
       "    <tr>\n",
       "      <td>3</td>\n",
       "      <td>aaaaand go trump admin start remov clim chang ...</td>\n",
       "      <td>828858786286796800</td>\n",
       "      <td>1</td>\n",
       "      <td>0</td>\n",
       "      <td>2017-02-07 07:07:01.000</td>\n",
       "      <td>2</td>\n",
       "      <td>3</td>\n",
       "      <td>5164</td>\n",
       "      <td>0</td>\n",
       "      <td>n</td>\n",
       "      <td>0</td>\n",
       "      <td>0</td>\n",
       "      <td>True</td>\n",
       "      <td>1</td>\n",
       "    </tr>\n",
       "    <tr>\n",
       "      <td>4</td>\n",
       "      <td>aaaand elimin ref glob warm wisconsin</td>\n",
       "      <td>814547316258512896</td>\n",
       "      <td>1</td>\n",
       "      <td>0</td>\n",
       "      <td>2016-12-29 18:58:31.000</td>\n",
       "      <td>2</td>\n",
       "      <td>3</td>\n",
       "      <td>5164</td>\n",
       "      <td>0</td>\n",
       "      <td>n</td>\n",
       "      <td>0</td>\n",
       "      <td>0</td>\n",
       "      <td>True</td>\n",
       "      <td>1</td>\n",
       "    </tr>\n",
       "    <tr>\n",
       "      <td>5</td>\n",
       "      <td>aaaand ep remov clim chang pag stil check ever...</td>\n",
       "      <td>858153629638959106</td>\n",
       "      <td>1</td>\n",
       "      <td>0</td>\n",
       "      <td>2017-04-29 02:59:03.000</td>\n",
       "      <td>760</td>\n",
       "      <td>637</td>\n",
       "      <td>428254</td>\n",
       "      <td>0</td>\n",
       "      <td>NaN</td>\n",
       "      <td>0</td>\n",
       "      <td>0</td>\n",
       "      <td>False</td>\n",
       "      <td>1</td>\n",
       "    </tr>\n",
       "    <tr>\n",
       "      <td>6</td>\n",
       "      <td>ab act clim chang cal show success vis amp pract</td>\n",
       "      <td>890334462004699136</td>\n",
       "      <td>1</td>\n",
       "      <td>0</td>\n",
       "      <td>2017-07-26 22:14:12.000</td>\n",
       "      <td>38</td>\n",
       "      <td>76</td>\n",
       "      <td>19398</td>\n",
       "      <td>1</td>\n",
       "      <td>Lakewood, CA</td>\n",
       "      <td>0</td>\n",
       "      <td>0</td>\n",
       "      <td>False</td>\n",
       "      <td>1</td>\n",
       "    </tr>\n",
       "  </tbody>\n",
       "</table>\n",
       "</div>"
      ],
      "text/plain": [
       "                                          clean text             tweetid  \\\n",
       "2  aaaaaand delet glob warm rain tweet cas miss s...  794050846807982080   \n",
       "3  aaaaand go trump admin start remov clim chang ...  828858786286796800   \n",
       "4              aaaand elimin ref glob warm wisconsin  814547316258512896   \n",
       "5  aaaand ep remov clim chang pag stil check ever...  858153629638959106   \n",
       "6   ab act clim chang cal show success vis amp pract  890334462004699136   \n",
       "\n",
       "   is_retweet  is_quoted                date_time  retweets  favorites  \\\n",
       "2           1          0  2016-11-03 05:37:29.000        47         79   \n",
       "3           1          0  2017-02-07 07:07:01.000         2          3   \n",
       "4           1          0  2016-12-29 18:58:31.000         2          3   \n",
       "5           1          0  2017-04-29 02:59:03.000       760        637   \n",
       "6           1          0  2017-07-26 22:14:12.000        38         76   \n",
       "\n",
       "   followers  verified      location  exclamation_mark_count  \\\n",
       "2      20106         1           NYC                       0   \n",
       "3       5164         0             n                       0   \n",
       "4       5164         0             n                       0   \n",
       "5     428254         0           NaN                       0   \n",
       "6      19398         1  Lakewood, CA                       0   \n",
       "\n",
       "   question_mark_count  imputed  sentiment  \n",
       "2                    0    False         -1  \n",
       "3                    0     True          1  \n",
       "4                    0     True          1  \n",
       "5                    0    False          1  \n",
       "6                    0    False          1  "
      ]
     },
     "execution_count": 121,
     "metadata": {},
     "output_type": "execute_result"
    }
   ],
   "source": [
    "data.head()"
   ]
  },
  {
   "cell_type": "code",
   "execution_count": 122,
   "metadata": {},
   "outputs": [
    {
     "data": {
      "text/html": [
       "<div>\n",
       "<style scoped>\n",
       "    .dataframe tbody tr th:only-of-type {\n",
       "        vertical-align: middle;\n",
       "    }\n",
       "\n",
       "    .dataframe tbody tr th {\n",
       "        vertical-align: top;\n",
       "    }\n",
       "\n",
       "    .dataframe thead th {\n",
       "        text-align: right;\n",
       "    }\n",
       "</style>\n",
       "<table border=\"1\" class=\"dataframe\">\n",
       "  <thead>\n",
       "    <tr style=\"text-align: right;\">\n",
       "      <th></th>\n",
       "      <th>clean text</th>\n",
       "      <th>tweetid</th>\n",
       "      <th>is_retweet</th>\n",
       "      <th>is_quoted</th>\n",
       "      <th>date_time</th>\n",
       "      <th>retweets</th>\n",
       "      <th>favorites</th>\n",
       "      <th>followers</th>\n",
       "      <th>verified</th>\n",
       "      <th>location</th>\n",
       "      <th>exclamation_mark_count</th>\n",
       "      <th>question_mark_count</th>\n",
       "      <th>imputed</th>\n",
       "      <th>sentiment</th>\n",
       "    </tr>\n",
       "  </thead>\n",
       "  <tbody>\n",
       "    <tr>\n",
       "      <td>36415</td>\n",
       "      <td>zink said appear interest continu agend sci ef...</td>\n",
       "      <td>953664226215604226</td>\n",
       "      <td>1</td>\n",
       "      <td>0</td>\n",
       "      <td>2018-01-17 16:24:04.000</td>\n",
       "      <td>16</td>\n",
       "      <td>27</td>\n",
       "      <td>274141</td>\n",
       "      <td>1</td>\n",
       "      <td>Connecticut</td>\n",
       "      <td>0</td>\n",
       "      <td>0</td>\n",
       "      <td>False</td>\n",
       "      <td>1</td>\n",
       "    </tr>\n",
       "    <tr>\n",
       "      <td>36417</td>\n",
       "      <td>zoe tel ok wel august nev end caus glob warm n...</td>\n",
       "      <td>799128138080845824</td>\n",
       "      <td>0</td>\n",
       "      <td>0</td>\n",
       "      <td>2016-11-17 05:52:49.000</td>\n",
       "      <td>0</td>\n",
       "      <td>2</td>\n",
       "      <td>196</td>\n",
       "      <td>0</td>\n",
       "      <td>Salt Lake City, UT</td>\n",
       "      <td>1</td>\n",
       "      <td>0</td>\n",
       "      <td>False</td>\n",
       "      <td>0</td>\n",
       "    </tr>\n",
       "    <tr>\n",
       "      <td>36418</td>\n",
       "      <td>zomb crim amp nee eng big issu today clim chan...</td>\n",
       "      <td>850128738343768065</td>\n",
       "      <td>1</td>\n",
       "      <td>0</td>\n",
       "      <td>2017-04-06 23:31:00.000</td>\n",
       "      <td>5</td>\n",
       "      <td>4</td>\n",
       "      <td>3620</td>\n",
       "      <td>0</td>\n",
       "      <td>London, England</td>\n",
       "      <td>0</td>\n",
       "      <td>0</td>\n",
       "      <td>False</td>\n",
       "      <td>1</td>\n",
       "    </tr>\n",
       "    <tr>\n",
       "      <td>36419</td>\n",
       "      <td>zomby heal car bil die dc bipart maj mov clim ...</td>\n",
       "      <td>887160359437582338</td>\n",
       "      <td>0</td>\n",
       "      <td>0</td>\n",
       "      <td>2017-07-18 04:01:26.000</td>\n",
       "      <td>1</td>\n",
       "      <td>0</td>\n",
       "      <td>119</td>\n",
       "      <td>0</td>\n",
       "      <td>Bay Area, California</td>\n",
       "      <td>0</td>\n",
       "      <td>0</td>\n",
       "      <td>False</td>\n",
       "      <td>0</td>\n",
       "    </tr>\n",
       "    <tr>\n",
       "      <td>36420</td>\n",
       "      <td>zuckerburg play hand trump reckon hes piss cli...</td>\n",
       "      <td>908948420139913221</td>\n",
       "      <td>0</td>\n",
       "      <td>0</td>\n",
       "      <td>2017-09-16 06:59:25.000</td>\n",
       "      <td>0</td>\n",
       "      <td>0</td>\n",
       "      <td>56</td>\n",
       "      <td>0</td>\n",
       "      <td>NaN</td>\n",
       "      <td>0</td>\n",
       "      <td>0</td>\n",
       "      <td>False</td>\n",
       "      <td>1</td>\n",
       "    </tr>\n",
       "  </tbody>\n",
       "</table>\n",
       "</div>"
      ],
      "text/plain": [
       "                                              clean text             tweetid  \\\n",
       "36415  zink said appear interest continu agend sci ef...  953664226215604226   \n",
       "36417  zoe tel ok wel august nev end caus glob warm n...  799128138080845824   \n",
       "36418  zomb crim amp nee eng big issu today clim chan...  850128738343768065   \n",
       "36419  zomby heal car bil die dc bipart maj mov clim ...  887160359437582338   \n",
       "36420  zuckerburg play hand trump reckon hes piss cli...  908948420139913221   \n",
       "\n",
       "       is_retweet  is_quoted                date_time  retweets  favorites  \\\n",
       "36415           1          0  2018-01-17 16:24:04.000        16         27   \n",
       "36417           0          0  2016-11-17 05:52:49.000         0          2   \n",
       "36418           1          0  2017-04-06 23:31:00.000         5          4   \n",
       "36419           0          0  2017-07-18 04:01:26.000         1          0   \n",
       "36420           0          0  2017-09-16 06:59:25.000         0          0   \n",
       "\n",
       "       followers  verified              location  exclamation_mark_count  \\\n",
       "36415     274141         1           Connecticut                       0   \n",
       "36417        196         0    Salt Lake City, UT                       1   \n",
       "36418       3620         0       London, England                       0   \n",
       "36419        119         0  Bay Area, California                       0   \n",
       "36420         56         0                   NaN                       0   \n",
       "\n",
       "       question_mark_count  imputed  sentiment  \n",
       "36415                    0    False          1  \n",
       "36417                    0    False          0  \n",
       "36418                    0    False          1  \n",
       "36419                    0    False          0  \n",
       "36420                    0    False          1  "
      ]
     },
     "execution_count": 122,
     "metadata": {},
     "output_type": "execute_result"
    }
   ],
   "source": [
    "data.tail()"
   ]
  },
  {
   "cell_type": "markdown",
   "metadata": {},
   "source": [
    "### Data Visualizations"
   ]
  },
  {
   "cell_type": "code",
   "execution_count": 123,
   "metadata": {},
   "outputs": [
    {
     "data": {
      "image/png": "[encoded data removed]",
      "text/plain": [
       "<Figure size 432x288 with 1 Axes>"
      ]
     },
     "metadata": {
      "needs_background": "light"
     },
     "output_type": "display_data"
    }
   ],
   "source": [
    "#sentiment distribution\n",
    "#-1 = anti, 0 = neutral, 1 = pro \n",
    "sns.countplot(data[\"sentiment\"])\n",
    "plt.show()"
   ]
  },
  {
   "cell_type": "code",
   "execution_count": 164,
   "metadata": {},
   "outputs": [
    {
     "data": {
      "text/plain": [
       "0.6481264232972189"
      ]
     },
     "execution_count": 164,
     "metadata": {},
     "output_type": "execute_result"
    }
   ],
   "source": [
    "len(data[data[\"sentiment\"] == 1])/len(data)"
   ]
  },
  {
   "cell_type": "markdown",
   "metadata": {},
   "source": [
    "A null model would always predict sentiment = 1. This model would predict the class correctly approximatley 64% of the time. To assess the models we fit, we will compare them to this baseline."
   ]
  },
  {
   "cell_type": "code",
   "execution_count": 124,
   "metadata": {},
   "outputs": [
    {
     "data": {
      "image/png": "[encoded data removed]",
      "text/plain": [
       "<Figure size 432x288 with 1 Axes>"
      ]
     },
     "metadata": {
      "needs_background": "light"
     },
     "output_type": "display_data"
    }
   ],
   "source": [
    "#is retweet distribution\n",
    "sns.countplot(data[\"is_retweet\"])\n",
    "plt.show()"
   ]
  },
  {
   "cell_type": "code",
   "execution_count": 125,
   "metadata": {},
   "outputs": [
    {
     "data": {
      "image/png": "[encoded data removed]",
      "text/plain": [
       "<Figure size 432x288 with 1 Axes>"
      ]
     },
     "metadata": {
      "needs_background": "light"
     },
     "output_type": "display_data"
    }
   ],
   "source": [
    "#is quoted distribution\n",
    "sns.countplot(data[\"is_quoted\"])\n",
    "plt.show()"
   ]
  },
  {
   "cell_type": "code",
   "execution_count": 126,
   "metadata": {},
   "outputs": [
    {
     "data": {
      "image/png": "[encoded data removed]",
      "text/plain": [
       "<Figure size 432x288 with 1 Axes>"
      ]
     },
     "metadata": {
      "needs_background": "light"
     },
     "output_type": "display_data"
    }
   ],
   "source": [
    "#is verified distribution\n",
    "sns.countplot(data[\"verified\"])\n",
    "plt.show()"
   ]
  },
  {
   "cell_type": "code",
   "execution_count": 127,
   "metadata": {},
   "outputs": [
    {
     "data": {
      "image/png": "[encoded data removed]",
      "text/plain": [
       "<Figure size 432x288 with 1 Axes>"
      ]
     },
     "metadata": {
      "needs_background": "light"
     },
     "output_type": "display_data"
    }
   ],
   "source": [
    "#exclamation mark distribution\n",
    "sns.countplot(data[\"exclamation_mark_count\"])\n",
    "plt.show()"
   ]
  },
  {
   "cell_type": "code",
   "execution_count": 128,
   "metadata": {},
   "outputs": [
    {
     "data": {
      "image/png": "[encoded data removed]",
      "text/plain": [
       "<Figure size 432x288 with 1 Axes>"
      ]
     },
     "metadata": {
      "needs_background": "light"
     },
     "output_type": "display_data"
    }
   ],
   "source": [
    "#question mark distribution\n",
    "sns.countplot(data[\"question_mark_count\"])\n",
    "plt.show()"
   ]
  },
  {
   "cell_type": "code",
   "execution_count": 129,
   "metadata": {},
   "outputs": [
    {
     "data": {
      "image/png": "[encoded data removed]",
      "text/plain": [
       "<Figure size 432x288 with 1 Axes>"
      ]
     },
     "metadata": {
      "needs_background": "light"
     },
     "output_type": "display_data"
    }
   ],
   "source": [
    "#follower histogram\n",
    "plt.hist(data[\"followers\"], bins = np.arange(0,20000,1000))\n",
    "plt.show()"
   ]
  },
  {
   "cell_type": "code",
   "execution_count": 130,
   "metadata": {},
   "outputs": [
    {
     "data": {
      "image/png": "[encoded data removed]",
      "text/plain": [
       "<Figure size 432x288 with 1 Axes>"
      ]
     },
     "metadata": {
      "needs_background": "light"
     },
     "output_type": "display_data"
    }
   ],
   "source": [
    "#retweets distribution\n",
    "plt.hist(data[\"retweets\"], bins = np.arange(0, 1000,10))\n",
    "plt.show()"
   ]
  },
  {
   "cell_type": "code",
   "execution_count": 131,
   "metadata": {},
   "outputs": [
    {
     "data": {
      "image/png": "[encoded data removed]",
      "text/plain": [
       "<Figure size 432x288 with 1 Axes>"
      ]
     },
     "metadata": {
      "needs_background": "light"
     },
     "output_type": "display_data"
    }
   ],
   "source": [
    "#favorites distribution\n",
    "plt.hist(data[\"retweets\"], bins = np.arange(0, 1000,10))\n",
    "plt.show()"
   ]
  },
  {
   "cell_type": "code",
   "execution_count": 132,
   "metadata": {},
   "outputs": [
    {
     "data": {
      "image/png": "[encoded data removed]",
      "text/plain": [
       "<Figure size 432x288 with 1 Axes>"
      ]
     },
     "metadata": {
      "needs_background": "light"
     },
     "output_type": "display_data"
    }
   ],
   "source": [
    "#years distribution \n",
    "years = [(int(x[0:4])) for x in data[\"date_time\"]]\n",
    "sns.countplot(years)\n",
    "plt.show()"
   ]
  },
  {
   "cell_type": "code",
   "execution_count": 133,
   "metadata": {},
   "outputs": [
    {
     "data": {
      "image/png": "[encoded data removed]",
      "text/plain": [
       "<Figure size 432x288 with 1 Axes>"
      ]
     },
     "metadata": {
      "needs_background": "light"
     },
     "output_type": "display_data"
    }
   ],
   "source": [
    "#month distribution\n",
    "months = [(int(x[5:7])) for x in data[\"date_time\"]]\n",
    "sns.countplot(months)\n",
    "plt.show()"
   ]
  },
  {
   "cell_type": "code",
   "execution_count": 134,
   "metadata": {},
   "outputs": [
    {
     "data": {
      "image/png": "[encoded data removed]",
      "text/plain": [
       "<Figure size 432x288 with 1 Axes>"
      ]
     },
     "metadata": {
      "needs_background": "light"
     },
     "output_type": "display_data"
    }
   ],
   "source": [
    "#distribution over time\n",
    "year_map = {2015: 0, 2016:1, 2017:2, 2018:3}\n",
    "dates = []\n",
    "for i in range(len(years)):\n",
    "    dates += [year_map[years[i]]*12 + months[i]]\n",
    "    \n",
    "sns.countplot(dates)\n",
    "plt.show()"
   ]
  },
  {
   "cell_type": "markdown",
   "metadata": {},
   "source": [
    "### PCA on Numerical Features"
   ]
  },
  {
   "cell_type": "code",
   "execution_count": 135,
   "metadata": {},
   "outputs": [],
   "source": [
    "#import packages\n",
    "from sklearn import preprocessing\n",
    "from sklearn.decomposition import PCA"
   ]
  },
  {
   "cell_type": "code",
   "execution_count": 136,
   "metadata": {},
   "outputs": [],
   "source": [
    "#select numerical columns\n",
    "numerical = data.loc[:, ['is_retweet', 'is_quoted', 'retweets', 'favorites',\n",
    "       'followers', 'verified', 'exclamation_mark_count', 'question_mark_count']]"
   ]
  },
  {
   "cell_type": "code",
   "execution_count": 137,
   "metadata": {},
   "outputs": [
    {
     "data": {
      "text/plain": [
       "array([[ 1,  0, 47, ...,  1,  0,  0],\n",
       "       [ 1,  0,  2, ...,  0,  0,  0],\n",
       "       [ 1,  0,  2, ...,  0,  0,  0],\n",
       "       ...,\n",
       "       [ 1,  0,  5, ...,  0,  0,  0],\n",
       "       [ 0,  0,  1, ...,  0,  0,  0],\n",
       "       [ 0,  0,  0, ...,  0,  0,  0]], dtype=int64)"
      ]
     },
     "execution_count": 137,
     "metadata": {},
     "output_type": "execute_result"
    }
   ],
   "source": [
    "numerical.values"
   ]
  },
  {
   "cell_type": "code",
   "execution_count": 138,
   "metadata": {},
   "outputs": [],
   "source": [
    "#scale the numerical data\n",
    "scaled = preprocessing.scale(numerical.values)"
   ]
  },
  {
   "cell_type": "code",
   "execution_count": 139,
   "metadata": {},
   "outputs": [],
   "source": [
    "#perform pca transformation\n",
    "pca = PCA(n_components=4)\n",
    "transformed = pca.fit_transform(scaled)"
   ]
  },
  {
   "cell_type": "code",
   "execution_count": 140,
   "metadata": {},
   "outputs": [
    {
     "data": {
      "text/plain": [
       "array([0.2562456 , 0.18226097, 0.12760198, 0.12589385])"
      ]
     },
     "execution_count": 140,
     "metadata": {},
     "output_type": "execute_result"
    }
   ],
   "source": [
    "#explained variance ratios\n",
    "pca.explained_variance_ratio_"
   ]
  },
  {
   "cell_type": "code",
   "execution_count": 154,
   "metadata": {},
   "outputs": [
    {
     "data": {
      "image/png": "[encoded data removed]",
      "text/plain": [
       "<Figure size 432x288 with 1 Axes>"
      ]
     },
     "metadata": {
      "needs_background": "light"
     },
     "output_type": "display_data"
    }
   ],
   "source": [
    "#plot the first 2 PCs against each other \n",
    "plt.scatter(x = pca_df.loc[1,0],y = pca_df.loc[1,1] )\n",
    "plt.scatter(x = pca_df.loc[0,0],y = pca_df.loc[0,1] )\n",
    "plt.scatter(x = pca_df.loc[-1,0],y = pca_df.loc[-1,1] )\n",
    "plt.show()"
   ]
  },
  {
   "cell_type": "code",
   "execution_count": 157,
   "metadata": {},
   "outputs": [
    {
     "data": {
      "image/png": "[encoded data removed]",
      "text/plain": [
       "<Figure size 432x288 with 1 Axes>"
      ]
     },
     "metadata": {
      "needs_background": "light"
     },
     "output_type": "display_data"
    }
   ],
   "source": [
    "#plot the first 2 PCs against each other \n",
    "plt.scatter(x = pca_df.loc[1,2],y = pca_df.loc[1,3] )\n",
    "plt.scatter(x = pca_df.loc[0,2],y = pca_df.loc[0,3] )\n",
    "plt.scatter(x = pca_df.loc[-1,2],y = pca_df.loc[-1,3] )\n",
    "plt.show()"
   ]
  }
 ],
 "metadata": {
  "kernelspec": {
   "display_name": "Python 3",
   "language": "python",
   "name": "python3"
  },
  "language_info": {
   "codemirror_mode": {
    "name": "ipython",
    "version": 3
   },
   "file_extension": ".py",
   "mimetype": "text/x-python",
   "name": "python",
   "nbconvert_exporter": "python",
   "pygments_lexer": "ipython3",
   "version": "3.7.4"
  }
 },
 "nbformat": 4,
 "nbformat_minor": 2
}
